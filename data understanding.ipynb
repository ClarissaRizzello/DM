{
 "cells": [
  {
   "cell_type": "code",
   "execution_count": 2,
   "metadata": {},
   "outputs": [],
   "source": [
    "import numpy\n",
    "import re\n",
    "import pandas as pd\n",
    "import matplotlib.pyplot as plt\n",
    "import seaborn as sns\n",
    "\n",
    "from utils import abs_path"
   ]
  },
  {
   "attachments": {},
   "cell_type": "markdown",
   "metadata": {},
   "source": [
    "## Data Understanding"
   ]
  },
  {
   "cell_type": "code",
   "execution_count": 3,
   "metadata": {},
   "outputs": [],
   "source": [
    "data_path = abs_path('train.csv', 'data')\n",
    "df = pd.read_csv(data_path)"
   ]
  },
  {
   "cell_type": "code",
   "execution_count": 4,
   "metadata": {},
   "outputs": [
    {
     "data": {
      "text/html": [
       "<div>\n",
       "<style scoped>\n",
       "    .dataframe tbody tr th:only-of-type {\n",
       "        vertical-align: middle;\n",
       "    }\n",
       "\n",
       "    .dataframe tbody tr th {\n",
       "        vertical-align: top;\n",
       "    }\n",
       "\n",
       "    .dataframe thead th {\n",
       "        text-align: right;\n",
       "    }\n",
       "</style>\n",
       "<table border=\"1\" class=\"dataframe\">\n",
       "  <thead>\n",
       "    <tr style=\"text-align: right;\">\n",
       "      <th></th>\n",
       "      <th>originalTitle</th>\n",
       "      <th>rating</th>\n",
       "      <th>startYear</th>\n",
       "      <th>endYear</th>\n",
       "      <th>runtimeMinutes</th>\n",
       "      <th>awardWins</th>\n",
       "      <th>numVotes</th>\n",
       "      <th>worstRating</th>\n",
       "      <th>bestRating</th>\n",
       "      <th>totalImages</th>\n",
       "      <th>...</th>\n",
       "      <th>titleType</th>\n",
       "      <th>awardNominationsExcludeWins</th>\n",
       "      <th>canHaveEpisodes</th>\n",
       "      <th>isRatable</th>\n",
       "      <th>isAdult</th>\n",
       "      <th>numRegions</th>\n",
       "      <th>userReviewsTotal</th>\n",
       "      <th>ratingCount</th>\n",
       "      <th>countryOfOrigin</th>\n",
       "      <th>genres</th>\n",
       "    </tr>\n",
       "  </thead>\n",
       "  <tbody>\n",
       "    <tr>\n",
       "      <th>0</th>\n",
       "      <td>Neogenic Nightmare Chapter 3: Hydro-Man</td>\n",
       "      <td>(7, 8]</td>\n",
       "      <td>1995</td>\n",
       "      <td>\\N</td>\n",
       "      <td>\\N</td>\n",
       "      <td>0.0</td>\n",
       "      <td>779</td>\n",
       "      <td>1</td>\n",
       "      <td>10</td>\n",
       "      <td>1</td>\n",
       "      <td>...</td>\n",
       "      <td>tvEpisode</td>\n",
       "      <td>0</td>\n",
       "      <td>False</td>\n",
       "      <td>True</td>\n",
       "      <td>0</td>\n",
       "      <td>1</td>\n",
       "      <td>0</td>\n",
       "      <td>781</td>\n",
       "      <td>['US']</td>\n",
       "      <td>Action,Adventure,Animation</td>\n",
       "    </tr>\n",
       "    <tr>\n",
       "      <th>1</th>\n",
       "      <td>Looping</td>\n",
       "      <td>(5, 6]</td>\n",
       "      <td>1982</td>\n",
       "      <td>\\N</td>\n",
       "      <td>\\N</td>\n",
       "      <td>0.0</td>\n",
       "      <td>11</td>\n",
       "      <td>1</td>\n",
       "      <td>10</td>\n",
       "      <td>1</td>\n",
       "      <td>...</td>\n",
       "      <td>videoGame</td>\n",
       "      <td>0</td>\n",
       "      <td>False</td>\n",
       "      <td>True</td>\n",
       "      <td>0</td>\n",
       "      <td>1</td>\n",
       "      <td>0</td>\n",
       "      <td>11</td>\n",
       "      <td>['XWG']</td>\n",
       "      <td>Action</td>\n",
       "    </tr>\n",
       "    <tr>\n",
       "      <th>2</th>\n",
       "      <td>Idealnaya para</td>\n",
       "      <td>(5, 6]</td>\n",
       "      <td>1992</td>\n",
       "      <td>\\N</td>\n",
       "      <td>\\N</td>\n",
       "      <td>0.0</td>\n",
       "      <td>38</td>\n",
       "      <td>1</td>\n",
       "      <td>10</td>\n",
       "      <td>1</td>\n",
       "      <td>...</td>\n",
       "      <td>movie</td>\n",
       "      <td>0</td>\n",
       "      <td>False</td>\n",
       "      <td>True</td>\n",
       "      <td>0</td>\n",
       "      <td>1</td>\n",
       "      <td>1</td>\n",
       "      <td>38</td>\n",
       "      <td>['RU']</td>\n",
       "      <td>Comedy</td>\n",
       "    </tr>\n",
       "    <tr>\n",
       "      <th>3</th>\n",
       "      <td>MasterChef Celebrity México</td>\n",
       "      <td>(5, 6]</td>\n",
       "      <td>2021</td>\n",
       "      <td>\\N</td>\n",
       "      <td>\\N</td>\n",
       "      <td>0.0</td>\n",
       "      <td>15</td>\n",
       "      <td>1</td>\n",
       "      <td>10</td>\n",
       "      <td>22</td>\n",
       "      <td>...</td>\n",
       "      <td>tvSeries</td>\n",
       "      <td>0</td>\n",
       "      <td>True</td>\n",
       "      <td>True</td>\n",
       "      <td>0</td>\n",
       "      <td>1</td>\n",
       "      <td>0</td>\n",
       "      <td>15</td>\n",
       "      <td>['MX']</td>\n",
       "      <td>Reality-TV</td>\n",
       "    </tr>\n",
       "    <tr>\n",
       "      <th>4</th>\n",
       "      <td>Seutateueob</td>\n",
       "      <td>(7, 8]</td>\n",
       "      <td>2020</td>\n",
       "      <td>2020</td>\n",
       "      <td>80</td>\n",
       "      <td>1.0</td>\n",
       "      <td>15718</td>\n",
       "      <td>1</td>\n",
       "      <td>10</td>\n",
       "      <td>347</td>\n",
       "      <td>...</td>\n",
       "      <td>tvSeries</td>\n",
       "      <td>1</td>\n",
       "      <td>True</td>\n",
       "      <td>True</td>\n",
       "      <td>0</td>\n",
       "      <td>32</td>\n",
       "      <td>452</td>\n",
       "      <td>15746</td>\n",
       "      <td>['KR']</td>\n",
       "      <td>Comedy,Drama,Romance</td>\n",
       "    </tr>\n",
       "  </tbody>\n",
       "</table>\n",
       "<p>5 rows × 23 columns</p>\n",
       "</div>"
      ],
      "text/plain": [
       "                             originalTitle  rating  startYear endYear  \\\n",
       "0  Neogenic Nightmare Chapter 3: Hydro-Man  (7, 8]       1995      \\N   \n",
       "1                                  Looping  (5, 6]       1982      \\N   \n",
       "2                           Idealnaya para  (5, 6]       1992      \\N   \n",
       "3              MasterChef Celebrity México  (5, 6]       2021      \\N   \n",
       "4                              Seutateueob  (7, 8]       2020    2020   \n",
       "\n",
       "  runtimeMinutes  awardWins  numVotes  worstRating  bestRating  totalImages  \\\n",
       "0             \\N        0.0       779            1          10            1   \n",
       "1             \\N        0.0        11            1          10            1   \n",
       "2             \\N        0.0        38            1          10            1   \n",
       "3             \\N        0.0        15            1          10           22   \n",
       "4             80        1.0     15718            1          10          347   \n",
       "\n",
       "   ...  titleType  awardNominationsExcludeWins  canHaveEpisodes isRatable  \\\n",
       "0  ...  tvEpisode                            0            False      True   \n",
       "1  ...  videoGame                            0            False      True   \n",
       "2  ...      movie                            0            False      True   \n",
       "3  ...   tvSeries                            0             True      True   \n",
       "4  ...   tvSeries                            1             True      True   \n",
       "\n",
       "   isAdult  numRegions  userReviewsTotal  ratingCount  countryOfOrigin  \\\n",
       "0        0           1                 0          781           ['US']   \n",
       "1        0           1                 0           11          ['XWG']   \n",
       "2        0           1                 1           38           ['RU']   \n",
       "3        0           1                 0           15           ['MX']   \n",
       "4        0          32               452        15746           ['KR']   \n",
       "\n",
       "                       genres  \n",
       "0  Action,Adventure,Animation  \n",
       "1                      Action  \n",
       "2                      Comedy  \n",
       "3                  Reality-TV  \n",
       "4        Comedy,Drama,Romance  \n",
       "\n",
       "[5 rows x 23 columns]"
      ]
     },
     "execution_count": 4,
     "metadata": {},
     "output_type": "execute_result"
    }
   ],
   "source": [
    "df.head()"
   ]
  },
  {
   "cell_type": "code",
   "execution_count": 5,
   "metadata": {},
   "outputs": [
    {
     "data": {
      "text/plain": [
       "(16431, 23)"
      ]
     },
     "execution_count": 5,
     "metadata": {},
     "output_type": "execute_result"
    }
   ],
   "source": [
    "df.shape"
   ]
  },
  {
   "cell_type": "code",
   "execution_count": 6,
   "metadata": {},
   "outputs": [
    {
     "name": "stdout",
     "output_type": "stream",
     "text": [
      "<class 'pandas.core.frame.DataFrame'>\n",
      "RangeIndex: 16431 entries, 0 to 16430\n",
      "Data columns (total 23 columns):\n",
      " #   Column                       Non-Null Count  Dtype  \n",
      "---  ------                       --------------  -----  \n",
      " 0   originalTitle                16431 non-null  object \n",
      " 1   rating                       16431 non-null  object \n",
      " 2   startYear                    16431 non-null  int64  \n",
      " 3   endYear                      16431 non-null  object \n",
      " 4   runtimeMinutes               16431 non-null  object \n",
      " 5   awardWins                    13813 non-null  float64\n",
      " 6   numVotes                     16431 non-null  int64  \n",
      " 7   worstRating                  16431 non-null  int64  \n",
      " 8   bestRating                   16431 non-null  int64  \n",
      " 9   totalImages                  16431 non-null  int64  \n",
      " 10  totalVideos                  16431 non-null  int64  \n",
      " 11  totalCredits                 16431 non-null  int64  \n",
      " 12  criticReviewsTotal           16431 non-null  int64  \n",
      " 13  titleType                    16431 non-null  object \n",
      " 14  awardNominationsExcludeWins  16431 non-null  int64  \n",
      " 15  canHaveEpisodes              16431 non-null  bool   \n",
      " 16  isRatable                    16431 non-null  bool   \n",
      " 17  isAdult                      16431 non-null  int64  \n",
      " 18  numRegions                   16431 non-null  int64  \n",
      " 19  userReviewsTotal             16431 non-null  int64  \n",
      " 20  ratingCount                  16431 non-null  int64  \n",
      " 21  countryOfOrigin              16431 non-null  object \n",
      " 22  genres                       16431 non-null  object \n",
      "dtypes: bool(2), float64(1), int64(13), object(7)\n",
      "memory usage: 2.7+ MB\n"
     ]
    }
   ],
   "source": [
    "df.info()"
   ]
  },
  {
   "cell_type": "code",
   "execution_count": 7,
   "metadata": {},
   "outputs": [
    {
     "data": {
      "text/plain": [
       "['originalTitle',\n",
       " 'rating',\n",
       " 'startYear',\n",
       " 'endYear',\n",
       " 'runtimeMinutes',\n",
       " 'awardWins',\n",
       " 'numVotes',\n",
       " 'worstRating',\n",
       " 'bestRating',\n",
       " 'totalImages',\n",
       " 'totalVideos',\n",
       " 'totalCredits',\n",
       " 'criticReviewsTotal',\n",
       " 'titleType',\n",
       " 'awardNominationsExcludeWins',\n",
       " 'canHaveEpisodes',\n",
       " 'isRatable',\n",
       " 'isAdult',\n",
       " 'numRegions',\n",
       " 'userReviewsTotal',\n",
       " 'ratingCount',\n",
       " 'countryOfOrigin',\n",
       " 'genres']"
      ]
     },
     "execution_count": 7,
     "metadata": {},
     "output_type": "execute_result"
    }
   ],
   "source": [
    "df.columns.values.tolist()"
   ]
  },
  {
   "cell_type": "code",
   "execution_count": 8,
   "metadata": {},
   "outputs": [
    {
     "data": {
      "text/html": [
       "<div>\n",
       "<style scoped>\n",
       "    .dataframe tbody tr th:only-of-type {\n",
       "        vertical-align: middle;\n",
       "    }\n",
       "\n",
       "    .dataframe tbody tr th {\n",
       "        vertical-align: top;\n",
       "    }\n",
       "\n",
       "    .dataframe thead th {\n",
       "        text-align: right;\n",
       "    }\n",
       "</style>\n",
       "<table border=\"1\" class=\"dataframe\">\n",
       "  <thead>\n",
       "    <tr style=\"text-align: right;\">\n",
       "      <th></th>\n",
       "      <th>originalTitle</th>\n",
       "      <th>rating</th>\n",
       "      <th>startYear</th>\n",
       "      <th>endYear</th>\n",
       "      <th>runtimeMinutes</th>\n",
       "      <th>awardWins</th>\n",
       "      <th>numVotes</th>\n",
       "      <th>worstRating</th>\n",
       "      <th>bestRating</th>\n",
       "      <th>totalImages</th>\n",
       "      <th>...</th>\n",
       "      <th>titleType</th>\n",
       "      <th>awardNominationsExcludeWins</th>\n",
       "      <th>canHaveEpisodes</th>\n",
       "      <th>isRatable</th>\n",
       "      <th>isAdult</th>\n",
       "      <th>numRegions</th>\n",
       "      <th>userReviewsTotal</th>\n",
       "      <th>ratingCount</th>\n",
       "      <th>countryOfOrigin</th>\n",
       "      <th>genres</th>\n",
       "    </tr>\n",
       "  </thead>\n",
       "  <tbody>\n",
       "    <tr>\n",
       "      <th>16430</th>\n",
       "      <td>Anniversary Night</td>\n",
       "      <td>(9, 10]</td>\n",
       "      <td>2022</td>\n",
       "      <td>\\N</td>\n",
       "      <td>\\N</td>\n",
       "      <td>0.0</td>\n",
       "      <td>9</td>\n",
       "      <td>1</td>\n",
       "      <td>10</td>\n",
       "      <td>7</td>\n",
       "      <td>...</td>\n",
       "      <td>short</td>\n",
       "      <td>0</td>\n",
       "      <td>False</td>\n",
       "      <td>True</td>\n",
       "      <td>0</td>\n",
       "      <td>1</td>\n",
       "      <td>0</td>\n",
       "      <td>9</td>\n",
       "      <td>['IN']</td>\n",
       "      <td>Drama,Short</td>\n",
       "    </tr>\n",
       "    <tr>\n",
       "      <th>9076</th>\n",
       "      <td>Only Need to Win Once</td>\n",
       "      <td>(9, 10]</td>\n",
       "      <td>2020</td>\n",
       "      <td>\\N</td>\n",
       "      <td>23</td>\n",
       "      <td>NaN</td>\n",
       "      <td>5</td>\n",
       "      <td>1</td>\n",
       "      <td>10</td>\n",
       "      <td>6</td>\n",
       "      <td>...</td>\n",
       "      <td>short</td>\n",
       "      <td>0</td>\n",
       "      <td>False</td>\n",
       "      <td>True</td>\n",
       "      <td>0</td>\n",
       "      <td>1</td>\n",
       "      <td>1</td>\n",
       "      <td>5</td>\n",
       "      <td>['GB']</td>\n",
       "      <td>Drama,Short</td>\n",
       "    </tr>\n",
       "    <tr>\n",
       "      <th>798</th>\n",
       "      <td>Fairytale</td>\n",
       "      <td>(9, 10]</td>\n",
       "      <td>2021</td>\n",
       "      <td>\\N</td>\n",
       "      <td>\\N</td>\n",
       "      <td>NaN</td>\n",
       "      <td>765</td>\n",
       "      <td>1</td>\n",
       "      <td>10</td>\n",
       "      <td>3</td>\n",
       "      <td>...</td>\n",
       "      <td>tvEpisode</td>\n",
       "      <td>0</td>\n",
       "      <td>False</td>\n",
       "      <td>True</td>\n",
       "      <td>0</td>\n",
       "      <td>1</td>\n",
       "      <td>6</td>\n",
       "      <td>767</td>\n",
       "      <td>['AU']</td>\n",
       "      <td>Animation,Family</td>\n",
       "    </tr>\n",
       "    <tr>\n",
       "      <th>805</th>\n",
       "      <td>George's Marvellous Medicine: The Marvellous Plan</td>\n",
       "      <td>(9, 10]</td>\n",
       "      <td>1986</td>\n",
       "      <td>\\N</td>\n",
       "      <td>15</td>\n",
       "      <td>0.0</td>\n",
       "      <td>40</td>\n",
       "      <td>1</td>\n",
       "      <td>10</td>\n",
       "      <td>1</td>\n",
       "      <td>...</td>\n",
       "      <td>tvEpisode</td>\n",
       "      <td>0</td>\n",
       "      <td>False</td>\n",
       "      <td>True</td>\n",
       "      <td>0</td>\n",
       "      <td>1</td>\n",
       "      <td>0</td>\n",
       "      <td>40</td>\n",
       "      <td>['GB']</td>\n",
       "      <td>Family,Fantasy</td>\n",
       "    </tr>\n",
       "    <tr>\n",
       "      <th>808</th>\n",
       "      <td>World of Horses</td>\n",
       "      <td>(9, 10]</td>\n",
       "      <td>2019</td>\n",
       "      <td>\\N</td>\n",
       "      <td>60</td>\n",
       "      <td>0.0</td>\n",
       "      <td>12</td>\n",
       "      <td>1</td>\n",
       "      <td>10</td>\n",
       "      <td>7</td>\n",
       "      <td>...</td>\n",
       "      <td>movie</td>\n",
       "      <td>0</td>\n",
       "      <td>False</td>\n",
       "      <td>True</td>\n",
       "      <td>0</td>\n",
       "      <td>1</td>\n",
       "      <td>0</td>\n",
       "      <td>12</td>\n",
       "      <td>['DE']</td>\n",
       "      <td>Documentary</td>\n",
       "    </tr>\n",
       "    <tr>\n",
       "      <th>...</th>\n",
       "      <td>...</td>\n",
       "      <td>...</td>\n",
       "      <td>...</td>\n",
       "      <td>...</td>\n",
       "      <td>...</td>\n",
       "      <td>...</td>\n",
       "      <td>...</td>\n",
       "      <td>...</td>\n",
       "      <td>...</td>\n",
       "      <td>...</td>\n",
       "      <td>...</td>\n",
       "      <td>...</td>\n",
       "      <td>...</td>\n",
       "      <td>...</td>\n",
       "      <td>...</td>\n",
       "      <td>...</td>\n",
       "      <td>...</td>\n",
       "      <td>...</td>\n",
       "      <td>...</td>\n",
       "      <td>...</td>\n",
       "      <td>...</td>\n",
       "    </tr>\n",
       "    <tr>\n",
       "      <th>8860</th>\n",
       "      <td>Espiral</td>\n",
       "      <td>(0, 1]</td>\n",
       "      <td>2005</td>\n",
       "      <td>\\N</td>\n",
       "      <td>25</td>\n",
       "      <td>0.0</td>\n",
       "      <td>8</td>\n",
       "      <td>1</td>\n",
       "      <td>10</td>\n",
       "      <td>1</td>\n",
       "      <td>...</td>\n",
       "      <td>tvSeries</td>\n",
       "      <td>0</td>\n",
       "      <td>True</td>\n",
       "      <td>True</td>\n",
       "      <td>0</td>\n",
       "      <td>1</td>\n",
       "      <td>0</td>\n",
       "      <td>8</td>\n",
       "      <td>['ES']</td>\n",
       "      <td>Documentary</td>\n",
       "    </tr>\n",
       "    <tr>\n",
       "      <th>1840</th>\n",
       "      <td>Episode dated 30 March 2010</td>\n",
       "      <td>(0, 1]</td>\n",
       "      <td>2010</td>\n",
       "      <td>\\N</td>\n",
       "      <td>60</td>\n",
       "      <td>NaN</td>\n",
       "      <td>142</td>\n",
       "      <td>1</td>\n",
       "      <td>10</td>\n",
       "      <td>0</td>\n",
       "      <td>...</td>\n",
       "      <td>tvEpisode</td>\n",
       "      <td>0</td>\n",
       "      <td>False</td>\n",
       "      <td>True</td>\n",
       "      <td>0</td>\n",
       "      <td>7</td>\n",
       "      <td>0</td>\n",
       "      <td>142</td>\n",
       "      <td>['US']</td>\n",
       "      <td>News,Reality-TV,Talk-Show</td>\n",
       "    </tr>\n",
       "    <tr>\n",
       "      <th>347</th>\n",
       "      <td>Kylie Jenner: Billion Dollar Baby</td>\n",
       "      <td>(0, 1]</td>\n",
       "      <td>2020</td>\n",
       "      <td>\\N</td>\n",
       "      <td>\\N</td>\n",
       "      <td>0.0</td>\n",
       "      <td>191</td>\n",
       "      <td>1</td>\n",
       "      <td>10</td>\n",
       "      <td>1</td>\n",
       "      <td>...</td>\n",
       "      <td>movie</td>\n",
       "      <td>0</td>\n",
       "      <td>False</td>\n",
       "      <td>True</td>\n",
       "      <td>0</td>\n",
       "      <td>2</td>\n",
       "      <td>0</td>\n",
       "      <td>191</td>\n",
       "      <td>['GB']</td>\n",
       "      <td>Biography,Documentary</td>\n",
       "    </tr>\n",
       "    <tr>\n",
       "      <th>11127</th>\n",
       "      <td>The Reel Deal</td>\n",
       "      <td>(0, 1]</td>\n",
       "      <td>1999</td>\n",
       "      <td>\\N</td>\n",
       "      <td>\\N</td>\n",
       "      <td>NaN</td>\n",
       "      <td>20</td>\n",
       "      <td>1</td>\n",
       "      <td>10</td>\n",
       "      <td>0</td>\n",
       "      <td>...</td>\n",
       "      <td>tvMovie</td>\n",
       "      <td>0</td>\n",
       "      <td>False</td>\n",
       "      <td>True</td>\n",
       "      <td>0</td>\n",
       "      <td>2</td>\n",
       "      <td>0</td>\n",
       "      <td>20</td>\n",
       "      <td>['US']</td>\n",
       "      <td>\\N</td>\n",
       "    </tr>\n",
       "    <tr>\n",
       "      <th>10016</th>\n",
       "      <td>La Zona TV</td>\n",
       "      <td>(0, 1]</td>\n",
       "      <td>2008</td>\n",
       "      <td>\\N</td>\n",
       "      <td>22</td>\n",
       "      <td>0.0</td>\n",
       "      <td>7</td>\n",
       "      <td>1</td>\n",
       "      <td>10</td>\n",
       "      <td>2</td>\n",
       "      <td>...</td>\n",
       "      <td>tvSeries</td>\n",
       "      <td>0</td>\n",
       "      <td>True</td>\n",
       "      <td>True</td>\n",
       "      <td>0</td>\n",
       "      <td>1</td>\n",
       "      <td>0</td>\n",
       "      <td>7</td>\n",
       "      <td>['MX']</td>\n",
       "      <td>News</td>\n",
       "    </tr>\n",
       "  </tbody>\n",
       "</table>\n",
       "<p>16431 rows × 23 columns</p>\n",
       "</div>"
      ],
      "text/plain": [
       "                                           originalTitle   rating  startYear  \\\n",
       "16430                                  Anniversary Night  (9, 10]       2022   \n",
       "9076                               Only Need to Win Once  (9, 10]       2020   \n",
       "798                                            Fairytale  (9, 10]       2021   \n",
       "805    George's Marvellous Medicine: The Marvellous Plan  (9, 10]       1986   \n",
       "808                                      World of Horses  (9, 10]       2019   \n",
       "...                                                  ...      ...        ...   \n",
       "8860                                             Espiral   (0, 1]       2005   \n",
       "1840                         Episode dated 30 March 2010   (0, 1]       2010   \n",
       "347                    Kylie Jenner: Billion Dollar Baby   (0, 1]       2020   \n",
       "11127                                      The Reel Deal   (0, 1]       1999   \n",
       "10016                                         La Zona TV   (0, 1]       2008   \n",
       "\n",
       "      endYear runtimeMinutes  awardWins  numVotes  worstRating  bestRating  \\\n",
       "16430      \\N             \\N        0.0         9            1          10   \n",
       "9076       \\N             23        NaN         5            1          10   \n",
       "798        \\N             \\N        NaN       765            1          10   \n",
       "805        \\N             15        0.0        40            1          10   \n",
       "808        \\N             60        0.0        12            1          10   \n",
       "...       ...            ...        ...       ...          ...         ...   \n",
       "8860       \\N             25        0.0         8            1          10   \n",
       "1840       \\N             60        NaN       142            1          10   \n",
       "347        \\N             \\N        0.0       191            1          10   \n",
       "11127      \\N             \\N        NaN        20            1          10   \n",
       "10016      \\N             22        0.0         7            1          10   \n",
       "\n",
       "       totalImages  ...  titleType  awardNominationsExcludeWins  \\\n",
       "16430            7  ...      short                            0   \n",
       "9076             6  ...      short                            0   \n",
       "798              3  ...  tvEpisode                            0   \n",
       "805              1  ...  tvEpisode                            0   \n",
       "808              7  ...      movie                            0   \n",
       "...            ...  ...        ...                          ...   \n",
       "8860             1  ...   tvSeries                            0   \n",
       "1840             0  ...  tvEpisode                            0   \n",
       "347              1  ...      movie                            0   \n",
       "11127            0  ...    tvMovie                            0   \n",
       "10016            2  ...   tvSeries                            0   \n",
       "\n",
       "       canHaveEpisodes isRatable  isAdult  numRegions  userReviewsTotal  \\\n",
       "16430            False      True        0           1                 0   \n",
       "9076             False      True        0           1                 1   \n",
       "798              False      True        0           1                 6   \n",
       "805              False      True        0           1                 0   \n",
       "808              False      True        0           1                 0   \n",
       "...                ...       ...      ...         ...               ...   \n",
       "8860              True      True        0           1                 0   \n",
       "1840             False      True        0           7                 0   \n",
       "347              False      True        0           2                 0   \n",
       "11127            False      True        0           2                 0   \n",
       "10016             True      True        0           1                 0   \n",
       "\n",
       "       ratingCount  countryOfOrigin                     genres  \n",
       "16430            9           ['IN']                Drama,Short  \n",
       "9076             5           ['GB']                Drama,Short  \n",
       "798            767           ['AU']           Animation,Family  \n",
       "805             40           ['GB']             Family,Fantasy  \n",
       "808             12           ['DE']                Documentary  \n",
       "...            ...              ...                        ...  \n",
       "8860             8           ['ES']                Documentary  \n",
       "1840           142           ['US']  News,Reality-TV,Talk-Show  \n",
       "347            191           ['GB']      Biography,Documentary  \n",
       "11127           20           ['US']                         \\N  \n",
       "10016            7           ['MX']                       News  \n",
       "\n",
       "[16431 rows x 23 columns]"
      ]
     },
     "execution_count": 8,
     "metadata": {},
     "output_type": "execute_result"
    }
   ],
   "source": [
    "ascending_df = df.sort_values(by = [\"rating\"], ascending = False, inplace = False)\n",
    "ascending_df"
   ]
  },
  {
   "attachments": {},
   "cell_type": "markdown",
   "metadata": {},
   "source": [
    "## Data Preparation"
   ]
  },
  {
   "cell_type": "code",
   "execution_count": 9,
   "metadata": {},
   "outputs": [
    {
     "data": {
      "text/plain": [
       "True"
      ]
     },
     "execution_count": 9,
     "metadata": {},
     "output_type": "execute_result"
    }
   ],
   "source": [
    "# Check if there are any null values\n",
    "df.isnull().values.any()"
   ]
  },
  {
   "cell_type": "code",
   "execution_count": 10,
   "metadata": {},
   "outputs": [
    {
     "name": "stdout",
     "output_type": "stream",
     "text": [
      "originalTitle                     0\n",
      "rating                            0\n",
      "startYear                         0\n",
      "endYear                           0\n",
      "runtimeMinutes                    0\n",
      "awardWins                      2618\n",
      "numVotes                          0\n",
      "worstRating                       0\n",
      "bestRating                        0\n",
      "totalImages                       0\n",
      "totalVideos                       0\n",
      "totalCredits                      0\n",
      "criticReviewsTotal                0\n",
      "titleType                         0\n",
      "awardNominationsExcludeWins       0\n",
      "canHaveEpisodes                   0\n",
      "isRatable                         0\n",
      "isAdult                           0\n",
      "numRegions                        0\n",
      "userReviewsTotal                  0\n",
      "ratingCount                       0\n",
      "countryOfOrigin                   0\n",
      "genres                            0\n",
      "dtype: int64\n"
     ]
    }
   ],
   "source": [
    "# Pandas by default only identifies NaN values as missing\n",
    "print(df.isnull().sum())"
   ]
  },
  {
   "cell_type": "code",
   "execution_count": 11,
   "metadata": {},
   "outputs": [
    {
     "name": "stdout",
     "output_type": "stream",
     "text": [
      "0\n"
     ]
    }
   ],
   "source": [
    "# Therefore we replace \\N values to None to properly deal with them\n",
    "df.replace('\\\\N', None, inplace = True)\n",
    "\n",
    "# Checking if there are any \\N left\n",
    "print(len(df[df.map(lambda x: x == '\\\\N').any(axis = 1)]))"
   ]
  },
  {
   "cell_type": "code",
   "execution_count": 12,
   "metadata": {},
   "outputs": [
    {
     "data": {
      "text/html": [
       "<div>\n",
       "<style scoped>\n",
       "    .dataframe tbody tr th:only-of-type {\n",
       "        vertical-align: middle;\n",
       "    }\n",
       "\n",
       "    .dataframe tbody tr th {\n",
       "        vertical-align: top;\n",
       "    }\n",
       "\n",
       "    .dataframe thead th {\n",
       "        text-align: right;\n",
       "    }\n",
       "</style>\n",
       "<table border=\"1\" class=\"dataframe\">\n",
       "  <thead>\n",
       "    <tr style=\"text-align: right;\">\n",
       "      <th></th>\n",
       "      <th>originalTitle</th>\n",
       "      <th>rating</th>\n",
       "      <th>startYear</th>\n",
       "      <th>endYear</th>\n",
       "      <th>runtimeMinutes</th>\n",
       "      <th>awardWins</th>\n",
       "      <th>numVotes</th>\n",
       "      <th>worstRating</th>\n",
       "      <th>bestRating</th>\n",
       "      <th>totalImages</th>\n",
       "      <th>...</th>\n",
       "      <th>titleType</th>\n",
       "      <th>awardNominationsExcludeWins</th>\n",
       "      <th>canHaveEpisodes</th>\n",
       "      <th>isRatable</th>\n",
       "      <th>isAdult</th>\n",
       "      <th>numRegions</th>\n",
       "      <th>userReviewsTotal</th>\n",
       "      <th>ratingCount</th>\n",
       "      <th>countryOfOrigin</th>\n",
       "      <th>genres</th>\n",
       "    </tr>\n",
       "  </thead>\n",
       "  <tbody>\n",
       "    <tr>\n",
       "      <th>6658</th>\n",
       "      <td>Abandoned</td>\n",
       "      <td>(2, 3]</td>\n",
       "      <td>2017</td>\n",
       "      <td>None</td>\n",
       "      <td>4</td>\n",
       "      <td>0.0</td>\n",
       "      <td>26</td>\n",
       "      <td>1</td>\n",
       "      <td>10</td>\n",
       "      <td>1</td>\n",
       "      <td>...</td>\n",
       "      <td>short</td>\n",
       "      <td>0</td>\n",
       "      <td>False</td>\n",
       "      <td>True</td>\n",
       "      <td>0</td>\n",
       "      <td>1</td>\n",
       "      <td>0</td>\n",
       "      <td>26</td>\n",
       "      <td>['RU']</td>\n",
       "      <td>Horror,Short</td>\n",
       "    </tr>\n",
       "    <tr>\n",
       "      <th>6065</th>\n",
       "      <td>Abandoned</td>\n",
       "      <td>(8, 9]</td>\n",
       "      <td>1994</td>\n",
       "      <td>None</td>\n",
       "      <td>47</td>\n",
       "      <td>0.0</td>\n",
       "      <td>30</td>\n",
       "      <td>1</td>\n",
       "      <td>10</td>\n",
       "      <td>3</td>\n",
       "      <td>...</td>\n",
       "      <td>tvEpisode</td>\n",
       "      <td>0</td>\n",
       "      <td>False</td>\n",
       "      <td>True</td>\n",
       "      <td>0</td>\n",
       "      <td>1</td>\n",
       "      <td>0</td>\n",
       "      <td>30</td>\n",
       "      <td>['AU']</td>\n",
       "      <td>Action,Crime,Drama</td>\n",
       "    </tr>\n",
       "    <tr>\n",
       "      <th>1493</th>\n",
       "      <td>Aladdin</td>\n",
       "      <td>(7, 8]</td>\n",
       "      <td>1993</td>\n",
       "      <td>None</td>\n",
       "      <td>None</td>\n",
       "      <td>0.0</td>\n",
       "      <td>1047</td>\n",
       "      <td>1</td>\n",
       "      <td>10</td>\n",
       "      <td>9</td>\n",
       "      <td>...</td>\n",
       "      <td>videoGame</td>\n",
       "      <td>1</td>\n",
       "      <td>False</td>\n",
       "      <td>True</td>\n",
       "      <td>0</td>\n",
       "      <td>3</td>\n",
       "      <td>3</td>\n",
       "      <td>1047</td>\n",
       "      <td>['US']</td>\n",
       "      <td>Action,Adventure,Family</td>\n",
       "    </tr>\n",
       "    <tr>\n",
       "      <th>15178</th>\n",
       "      <td>Aladdin</td>\n",
       "      <td>(6, 7]</td>\n",
       "      <td>1994</td>\n",
       "      <td>None</td>\n",
       "      <td>None</td>\n",
       "      <td>0.0</td>\n",
       "      <td>18</td>\n",
       "      <td>1</td>\n",
       "      <td>10</td>\n",
       "      <td>2</td>\n",
       "      <td>...</td>\n",
       "      <td>videoGame</td>\n",
       "      <td>0</td>\n",
       "      <td>False</td>\n",
       "      <td>True</td>\n",
       "      <td>0</td>\n",
       "      <td>2</td>\n",
       "      <td>0</td>\n",
       "      <td>18</td>\n",
       "      <td>['JP']</td>\n",
       "      <td>Action,Adventure,Family</td>\n",
       "    </tr>\n",
       "    <tr>\n",
       "      <th>2471</th>\n",
       "      <td>Alone</td>\n",
       "      <td>(6, 7]</td>\n",
       "      <td>2007</td>\n",
       "      <td>None</td>\n",
       "      <td>12</td>\n",
       "      <td>0.0</td>\n",
       "      <td>10</td>\n",
       "      <td>1</td>\n",
       "      <td>10</td>\n",
       "      <td>1</td>\n",
       "      <td>...</td>\n",
       "      <td>short</td>\n",
       "      <td>0</td>\n",
       "      <td>False</td>\n",
       "      <td>True</td>\n",
       "      <td>0</td>\n",
       "      <td>1</td>\n",
       "      <td>0</td>\n",
       "      <td>10</td>\n",
       "      <td>['US']</td>\n",
       "      <td>Short,Thriller</td>\n",
       "    </tr>\n",
       "    <tr>\n",
       "      <th>...</th>\n",
       "      <td>...</td>\n",
       "      <td>...</td>\n",
       "      <td>...</td>\n",
       "      <td>...</td>\n",
       "      <td>...</td>\n",
       "      <td>...</td>\n",
       "      <td>...</td>\n",
       "      <td>...</td>\n",
       "      <td>...</td>\n",
       "      <td>...</td>\n",
       "      <td>...</td>\n",
       "      <td>...</td>\n",
       "      <td>...</td>\n",
       "      <td>...</td>\n",
       "      <td>...</td>\n",
       "      <td>...</td>\n",
       "      <td>...</td>\n",
       "      <td>...</td>\n",
       "      <td>...</td>\n",
       "      <td>...</td>\n",
       "      <td>...</td>\n",
       "    </tr>\n",
       "    <tr>\n",
       "      <th>4784</th>\n",
       "      <td>Episode #1.1</td>\n",
       "      <td>(7, 8]</td>\n",
       "      <td>2022</td>\n",
       "      <td>None</td>\n",
       "      <td>55</td>\n",
       "      <td>0.0</td>\n",
       "      <td>145</td>\n",
       "      <td>1</td>\n",
       "      <td>10</td>\n",
       "      <td>12</td>\n",
       "      <td>...</td>\n",
       "      <td>tvEpisode</td>\n",
       "      <td>0</td>\n",
       "      <td>False</td>\n",
       "      <td>True</td>\n",
       "      <td>0</td>\n",
       "      <td>7</td>\n",
       "      <td>0</td>\n",
       "      <td>145</td>\n",
       "      <td>['AU']</td>\n",
       "      <td>Crime,Drama,Mystery</td>\n",
       "    </tr>\n",
       "    <tr>\n",
       "      <th>12005</th>\n",
       "      <td>Episode #1.1</td>\n",
       "      <td>(7, 8]</td>\n",
       "      <td>2021</td>\n",
       "      <td>None</td>\n",
       "      <td>48</td>\n",
       "      <td>0.0</td>\n",
       "      <td>194</td>\n",
       "      <td>1</td>\n",
       "      <td>10</td>\n",
       "      <td>182</td>\n",
       "      <td>...</td>\n",
       "      <td>tvEpisode</td>\n",
       "      <td>0</td>\n",
       "      <td>False</td>\n",
       "      <td>True</td>\n",
       "      <td>0</td>\n",
       "      <td>7</td>\n",
       "      <td>4</td>\n",
       "      <td>194</td>\n",
       "      <td>['GB']</td>\n",
       "      <td>Crime,Thriller</td>\n",
       "    </tr>\n",
       "    <tr>\n",
       "      <th>10939</th>\n",
       "      <td>Episode #1.1</td>\n",
       "      <td>(7, 8]</td>\n",
       "      <td>2015</td>\n",
       "      <td>None</td>\n",
       "      <td>28</td>\n",
       "      <td>0.0</td>\n",
       "      <td>221</td>\n",
       "      <td>1</td>\n",
       "      <td>10</td>\n",
       "      <td>1</td>\n",
       "      <td>...</td>\n",
       "      <td>tvEpisode</td>\n",
       "      <td>0</td>\n",
       "      <td>False</td>\n",
       "      <td>True</td>\n",
       "      <td>0</td>\n",
       "      <td>7</td>\n",
       "      <td>1</td>\n",
       "      <td>221</td>\n",
       "      <td>['GB']</td>\n",
       "      <td>Adventure,Crime,Drama</td>\n",
       "    </tr>\n",
       "    <tr>\n",
       "      <th>8634</th>\n",
       "      <td>Episode #1.1</td>\n",
       "      <td>(6, 7]</td>\n",
       "      <td>2018</td>\n",
       "      <td>None</td>\n",
       "      <td>59</td>\n",
       "      <td>0.0</td>\n",
       "      <td>36</td>\n",
       "      <td>1</td>\n",
       "      <td>10</td>\n",
       "      <td>0</td>\n",
       "      <td>...</td>\n",
       "      <td>tvEpisode</td>\n",
       "      <td>0</td>\n",
       "      <td>False</td>\n",
       "      <td>True</td>\n",
       "      <td>0</td>\n",
       "      <td>7</td>\n",
       "      <td>0</td>\n",
       "      <td>36</td>\n",
       "      <td>['DK']</td>\n",
       "      <td>Crime,Drama</td>\n",
       "    </tr>\n",
       "    <tr>\n",
       "      <th>16187</th>\n",
       "      <td>Episode #1.1</td>\n",
       "      <td>(7, 8]</td>\n",
       "      <td>2017</td>\n",
       "      <td>None</td>\n",
       "      <td>46</td>\n",
       "      <td>0.0</td>\n",
       "      <td>18</td>\n",
       "      <td>1</td>\n",
       "      <td>10</td>\n",
       "      <td>0</td>\n",
       "      <td>...</td>\n",
       "      <td>tvEpisode</td>\n",
       "      <td>0</td>\n",
       "      <td>False</td>\n",
       "      <td>True</td>\n",
       "      <td>0</td>\n",
       "      <td>7</td>\n",
       "      <td>1</td>\n",
       "      <td>18</td>\n",
       "      <td>['GB']</td>\n",
       "      <td>Documentary</td>\n",
       "    </tr>\n",
       "  </tbody>\n",
       "</table>\n",
       "<p>100 rows × 23 columns</p>\n",
       "</div>"
      ],
      "text/plain": [
       "      originalTitle  rating  startYear endYear runtimeMinutes  awardWins  \\\n",
       "6658      Abandoned  (2, 3]       2017    None              4        0.0   \n",
       "6065      Abandoned  (8, 9]       1994    None             47        0.0   \n",
       "1493        Aladdin  (7, 8]       1993    None           None        0.0   \n",
       "15178       Aladdin  (6, 7]       1994    None           None        0.0   \n",
       "2471          Alone  (6, 7]       2007    None             12        0.0   \n",
       "...             ...     ...        ...     ...            ...        ...   \n",
       "4784   Episode #1.1  (7, 8]       2022    None             55        0.0   \n",
       "12005  Episode #1.1  (7, 8]       2021    None             48        0.0   \n",
       "10939  Episode #1.1  (7, 8]       2015    None             28        0.0   \n",
       "8634   Episode #1.1  (6, 7]       2018    None             59        0.0   \n",
       "16187  Episode #1.1  (7, 8]       2017    None             46        0.0   \n",
       "\n",
       "       numVotes  worstRating  bestRating  totalImages  ...  titleType  \\\n",
       "6658         26            1          10            1  ...      short   \n",
       "6065         30            1          10            3  ...  tvEpisode   \n",
       "1493       1047            1          10            9  ...  videoGame   \n",
       "15178        18            1          10            2  ...  videoGame   \n",
       "2471         10            1          10            1  ...      short   \n",
       "...         ...          ...         ...          ...  ...        ...   \n",
       "4784        145            1          10           12  ...  tvEpisode   \n",
       "12005       194            1          10          182  ...  tvEpisode   \n",
       "10939       221            1          10            1  ...  tvEpisode   \n",
       "8634         36            1          10            0  ...  tvEpisode   \n",
       "16187        18            1          10            0  ...  tvEpisode   \n",
       "\n",
       "       awardNominationsExcludeWins  canHaveEpisodes isRatable  isAdult  \\\n",
       "6658                             0            False      True        0   \n",
       "6065                             0            False      True        0   \n",
       "1493                             1            False      True        0   \n",
       "15178                            0            False      True        0   \n",
       "2471                             0            False      True        0   \n",
       "...                            ...              ...       ...      ...   \n",
       "4784                             0            False      True        0   \n",
       "12005                            0            False      True        0   \n",
       "10939                            0            False      True        0   \n",
       "8634                             0            False      True        0   \n",
       "16187                            0            False      True        0   \n",
       "\n",
       "       numRegions  userReviewsTotal  ratingCount  countryOfOrigin  \\\n",
       "6658            1                 0           26           ['RU']   \n",
       "6065            1                 0           30           ['AU']   \n",
       "1493            3                 3         1047           ['US']   \n",
       "15178           2                 0           18           ['JP']   \n",
       "2471            1                 0           10           ['US']   \n",
       "...           ...               ...          ...              ...   \n",
       "4784            7                 0          145           ['AU']   \n",
       "12005           7                 4          194           ['GB']   \n",
       "10939           7                 1          221           ['GB']   \n",
       "8634            7                 0           36           ['DK']   \n",
       "16187           7                 1           18           ['GB']   \n",
       "\n",
       "                        genres  \n",
       "6658              Horror,Short  \n",
       "6065        Action,Crime,Drama  \n",
       "1493   Action,Adventure,Family  \n",
       "15178  Action,Adventure,Family  \n",
       "2471            Short,Thriller  \n",
       "...                        ...  \n",
       "4784       Crime,Drama,Mystery  \n",
       "12005           Crime,Thriller  \n",
       "10939    Adventure,Crime,Drama  \n",
       "8634               Crime,Drama  \n",
       "16187              Documentary  \n",
       "\n",
       "[100 rows x 23 columns]"
      ]
     },
     "execution_count": 12,
     "metadata": {},
     "output_type": "execute_result"
    }
   ],
   "source": [
    "# Check if there are duplicates\n",
    "df['originalTitle'].is_unique\n",
    "\n",
    "# The duplicates in the originalTitle column may be instances that refer to products with the same name but different type/genre/year\n",
    "# not dropping them for now but continuing with our analysis\n",
    "duplicati = df[df['originalTitle'].duplicated(keep= False)].sort_values('originalTitle')\n",
    "duplicati.head(100)"
   ]
  },
  {
   "cell_type": "code",
   "execution_count": 13,
   "metadata": {},
   "outputs": [],
   "source": [
    "distinctive_columns = ['originalTitle', 'startYear', 'titleType', 'countryOfOrigin', 'genres', 'runtimeMinutes']\n",
    "df_duplicates = duplicati[distinctive_columns]"
   ]
  },
  {
   "cell_type": "code",
   "execution_count": 14,
   "metadata": {},
   "outputs": [
    {
     "data": {
      "text/plain": [
       "'for titolo in df_duplicates[\\'originalTitle\\'].unique():\\n    print(f\"\\n\\nTitolo: {titolo}\")\\n    print(\"Versioni diverse:\")\\n    display(df_duplicates[df_duplicates[\\'originalTitle\\'] == titolo])'"
      ]
     },
     "execution_count": 14,
     "metadata": {},
     "output_type": "execute_result"
    }
   ],
   "source": [
    "# Verifying the different versions\n",
    "'''for titolo in df_duplicates['originalTitle'].unique():\n",
    "    print(f\"\\n\\nTitolo: {titolo}\")\n",
    "    print(\"Versioni diverse:\")\n",
    "    display(df_duplicates[df_duplicates['originalTitle'] == titolo])'''"
   ]
  },
  {
   "cell_type": "code",
   "execution_count": 15,
   "metadata": {},
   "outputs": [
    {
     "name": "stdout",
     "output_type": "stream",
     "text": [
      "tvEpisode\n",
      "startYear                      1997.187101\n",
      "awardWins                         0.002067\n",
      "numVotes                        340.473606\n",
      "worstRating                       1.000000\n",
      "bestRating                       10.000000\n",
      "totalImages                       5.591315\n",
      "totalVideos                       0.047893\n",
      "totalCredits                     68.822478\n",
      "criticReviewsTotal                0.629630\n",
      "awardNominationsExcludeWins       0.001916\n",
      "isAdult                           0.000213\n",
      "numRegions                        1.635802\n",
      "userReviewsTotal                  1.578331\n",
      "ratingCount                     340.838868\n",
      "Name: mean, dtype: float64\n",
      " \n",
      "videoGame\n",
      "startYear                      2000.644788\n",
      "awardWins                         0.252427\n",
      "numVotes                        413.355212\n",
      "worstRating                       1.000000\n",
      "bestRating                       10.000000\n",
      "totalImages                       8.729730\n",
      "totalVideos                       1.061776\n",
      "totalCredits                     35.444015\n",
      "criticReviewsTotal                0.837838\n",
      "awardNominationsExcludeWins       0.613900\n",
      "isAdult                           0.003861\n",
      "numRegions                        1.899614\n",
      "userReviewsTotal                  2.123552\n",
      "ratingCount                     413.764479\n",
      "Name: mean, dtype: float64\n",
      " \n",
      "movie\n",
      "startYear                      1985.946703\n",
      "awardWins                         0.878461\n",
      "numVotes                       3515.710930\n",
      "worstRating                       1.000000\n",
      "bestRating                       10.000000\n",
      "totalImages                      13.883107\n",
      "totalVideos                       0.410117\n",
      "totalCredits                     60.002349\n",
      "criticReviewsTotal                6.910208\n",
      "awardNominationsExcludeWins       0.985366\n",
      "isAdult                           0.021319\n",
      "numRegions                        6.207588\n",
      "userReviewsTotal                 15.247516\n",
      "ratingCount                    3517.180307\n",
      "Name: mean, dtype: float64\n",
      " \n",
      "tvSeries\n",
      "startYear                      2001.960000\n",
      "awardWins                         0.799828\n",
      "numVotes                       1951.506182\n",
      "worstRating                       1.000000\n",
      "bestRating                       10.000000\n",
      "totalImages                      48.094545\n",
      "totalVideos                       1.005818\n",
      "totalCredits                    156.903273\n",
      "criticReviewsTotal                1.110545\n",
      "awardNominationsExcludeWins       1.478545\n",
      "isAdult                           0.007273\n",
      "numRegions                        4.383273\n",
      "userReviewsTotal                 13.275636\n",
      "ratingCount                    1953.001455\n",
      "Name: mean, dtype: float64\n",
      " \n",
      "video\n",
      "startYear                      2001.724747\n",
      "awardWins                         0.096478\n",
      "numVotes                        188.050505\n",
      "worstRating                       1.000000\n",
      "bestRating                       10.000000\n",
      "totalImages                       2.762626\n",
      "totalVideos                       0.039141\n",
      "totalCredits                     26.470960\n",
      "criticReviewsTotal                1.055556\n",
      "awardNominationsExcludeWins       0.092172\n",
      "isAdult                           0.361111\n",
      "numRegions                        1.809343\n",
      "userReviewsTotal                  1.868687\n",
      "ratingCount                     188.154040\n",
      "Name: mean, dtype: float64\n",
      " \n",
      "tvMiniSeries\n",
      "startYear                      2003.066964\n",
      "awardWins                         0.294118\n",
      "numVotes                        436.709821\n",
      "worstRating                       1.000000\n",
      "bestRating                       10.000000\n",
      "totalImages                      11.000000\n",
      "totalVideos                       0.245536\n",
      "totalCredits                     67.044643\n",
      "criticReviewsTotal                0.794643\n",
      "awardNominationsExcludeWins       0.419643\n",
      "isAdult                           0.026786\n",
      "numRegions                        4.133929\n",
      "userReviewsTotal                  3.531250\n",
      "ratingCount                     437.241071\n",
      "Name: mean, dtype: float64\n",
      " \n",
      "short\n",
      "startYear                      1982.588116\n",
      "awardWins                         0.643503\n",
      "numVotes                         92.158852\n",
      "worstRating                       1.000000\n",
      "bestRating                       10.000000\n",
      "totalImages                       2.981002\n",
      "totalVideos                       0.064673\n",
      "totalCredits                     17.678254\n",
      "criticReviewsTotal                0.383185\n",
      "awardNominationsExcludeWins       0.424010\n",
      "isAdult                           0.001213\n",
      "numRegions                        1.755053\n",
      "userReviewsTotal                  1.133791\n",
      "ratingCount                      92.211803\n",
      "Name: mean, dtype: float64\n",
      " \n",
      "tvMovie\n",
      "startYear                      1994.768433\n",
      "awardWins                         0.205234\n",
      "numVotes                        185.211982\n",
      "worstRating                       1.000000\n",
      "bestRating                       10.000000\n",
      "totalImages                       4.835253\n",
      "totalVideos                       0.064516\n",
      "totalCredits                     45.845622\n",
      "criticReviewsTotal                0.951613\n",
      "awardNominationsExcludeWins       0.285714\n",
      "isAdult                           0.001152\n",
      "numRegions                        3.111751\n",
      "userReviewsTotal                  3.239631\n",
      "ratingCount                     185.381336\n",
      "Name: mean, dtype: float64\n",
      " \n",
      "tvSpecial\n",
      "startYear                      2002.524096\n",
      "awardWins                         0.191489\n",
      "numVotes                        161.542169\n",
      "worstRating                       1.000000\n",
      "bestRating                       10.000000\n",
      "totalImages                       4.457831\n",
      "totalVideos                       0.036145\n",
      "totalCredits                     43.927711\n",
      "criticReviewsTotal                0.174699\n",
      "awardNominationsExcludeWins       0.379518\n",
      "isAdult                           0.000000\n",
      "numRegions                        1.500000\n",
      "userReviewsTotal                  1.325301\n",
      "ratingCount                     161.650602\n",
      "Name: mean, dtype: float64\n",
      " \n",
      "tvShort\n",
      "startYear                      1991.300000\n",
      "awardWins                         0.029412\n",
      "numVotes                        146.250000\n",
      "worstRating                       1.000000\n",
      "bestRating                       10.000000\n",
      "totalImages                       2.825000\n",
      "totalVideos                       0.000000\n",
      "totalCredits                     18.550000\n",
      "criticReviewsTotal                0.050000\n",
      "awardNominationsExcludeWins       0.025000\n",
      "isAdult                           0.000000\n",
      "numRegions                        2.575000\n",
      "userReviewsTotal                  1.200000\n",
      "ratingCount                     146.350000\n",
      "Name: mean, dtype: float64\n",
      " \n"
     ]
    }
   ],
   "source": [
    "# Checking different types of products\n",
    "df['titleType'].value_counts()\n",
    "\n",
    "# Checking the mean for each feature\n",
    "for type in df['titleType'].unique():\n",
    "    print(type)\n",
    "    print(df[df['titleType'] == type].describe().iloc[1])\n",
    "    print(' ')"
   ]
  },
  {
   "cell_type": "code",
   "execution_count": 16,
   "metadata": {},
   "outputs": [
    {
     "name": "stdout",
     "output_type": "stream",
     "text": [
      "0\n"
     ]
    },
    {
     "data": {
      "text/plain": [
       "6.6556204734952225"
      ]
     },
     "execution_count": 16,
     "metadata": {},
     "output_type": "execute_result"
    }
   ],
   "source": [
    "# Average rating\n",
    "# Levo le parentesi dalla colonna\n",
    "print(df['rating'].isna().sum())\n",
    "\n",
    "df['rating'] = df['rating'].apply(lambda x: re.sub(r\"\\]|\\(\", \"\", x).strip()) \n",
    "\n",
    "# Trasformo la colonna in numero e ritorno la media tra i due numeri\n",
    "df['rating'] = df['rating'].apply(lambda x: sum(int(i.strip()) for i in x.split(',')) / len(x.split(',')))\n",
    "\n",
    "# Average rating\n",
    "df['rating'].describe().iloc[1]\n"
   ]
  },
  {
   "cell_type": "code",
   "execution_count": 17,
   "metadata": {},
   "outputs": [
    {
     "name": "stdout",
     "output_type": "stream",
     "text": [
      "The dataset covers from 1878 to 2024. A range of 146 years.\n"
     ]
    }
   ],
   "source": [
    "# Range of years covered\n",
    "max_year = df['startYear'].max()\n",
    "min_year = df['startYear'].min()\n",
    "\n",
    "range = max_year-min_year\n",
    "\n",
    "print(f\"The dataset covers from {min_year} to {max_year}. A range of {range} years.\")"
   ]
  },
  {
   "cell_type": "code",
   "execution_count": 18,
   "metadata": {},
   "outputs": [
    {
     "data": {
      "image/png": "[encoded data removed]",
      "text/plain": [
       "<Figure size 1000x600 with 1 Axes>"
      ]
     },
     "metadata": {},
     "output_type": "display_data"
    }
   ],
   "source": [
    "# Lets see if any years are missing\n",
    "media_by_year = df['startYear'].value_counts().sort_index()\n",
    "\n",
    "# Lets plot to check distribution\n",
    "plt.figure(figsize = (10,6))\n",
    "sns.barplot(x = media_by_year.index, y = media_by_year.values)\n",
    "plt.title('Frequenza di media per anno')\n",
    "plt.gca().xaxis.set_major_locator(plt.MaxNLocator(20))  # mostra max 20 etichette\n",
    "plt.xlabel('Annata')\n",
    "plt.ylabel('Media prodotti')\n",
    "plt.xticks(rotation = 45)\n",
    "plt.show()\n"
   ]
  },
  {
   "cell_type": "code",
   "execution_count": 19,
   "metadata": {},
   "outputs": [
    {
     "data": {
      "text/html": [
       "<div>\n",
       "<style scoped>\n",
       "    .dataframe tbody tr th:only-of-type {\n",
       "        vertical-align: middle;\n",
       "    }\n",
       "\n",
       "    .dataframe tbody tr th {\n",
       "        vertical-align: top;\n",
       "    }\n",
       "\n",
       "    .dataframe thead th {\n",
       "        text-align: right;\n",
       "    }\n",
       "</style>\n",
       "<table border=\"1\" class=\"dataframe\">\n",
       "  <thead>\n",
       "    <tr style=\"text-align: right;\">\n",
       "      <th></th>\n",
       "      <th>countryOfOrigin</th>\n",
       "      <th>counts</th>\n",
       "    </tr>\n",
       "  </thead>\n",
       "  <tbody>\n",
       "    <tr>\n",
       "      <th>0</th>\n",
       "      <td>US</td>\n",
       "      <td>7134</td>\n",
       "    </tr>\n",
       "    <tr>\n",
       "      <th>1</th>\n",
       "      <td>GB</td>\n",
       "      <td>1775</td>\n",
       "    </tr>\n",
       "    <tr>\n",
       "      <th>2</th>\n",
       "      <td>JP</td>\n",
       "      <td>846</td>\n",
       "    </tr>\n",
       "    <tr>\n",
       "      <th>3</th>\n",
       "      <td>FR</td>\n",
       "      <td>826</td>\n",
       "    </tr>\n",
       "    <tr>\n",
       "      <th>4</th>\n",
       "      <td>CA</td>\n",
       "      <td>621</td>\n",
       "    </tr>\n",
       "    <tr>\n",
       "      <th>...</th>\n",
       "      <td>...</td>\n",
       "      <td>...</td>\n",
       "    </tr>\n",
       "    <tr>\n",
       "      <th>148</th>\n",
       "      <td>EH</td>\n",
       "      <td>1</td>\n",
       "    </tr>\n",
       "    <tr>\n",
       "      <th>149</th>\n",
       "      <td>NE</td>\n",
       "      <td>1</td>\n",
       "    </tr>\n",
       "    <tr>\n",
       "      <th>150</th>\n",
       "      <td>PR</td>\n",
       "      <td>1</td>\n",
       "    </tr>\n",
       "    <tr>\n",
       "      <th>151</th>\n",
       "      <td>VA</td>\n",
       "      <td>1</td>\n",
       "    </tr>\n",
       "    <tr>\n",
       "      <th>152</th>\n",
       "      <td>GA</td>\n",
       "      <td>1</td>\n",
       "    </tr>\n",
       "  </tbody>\n",
       "</table>\n",
       "<p>153 rows × 2 columns</p>\n",
       "</div>"
      ],
      "text/plain": [
       "    countryOfOrigin  counts\n",
       "0                US    7134\n",
       "1                GB    1775\n",
       "2                JP     846\n",
       "3                FR     826\n",
       "4                CA     621\n",
       "..              ...     ...\n",
       "148              EH       1\n",
       "149              NE       1\n",
       "150              PR       1\n",
       "151              VA       1\n",
       "152              GA       1\n",
       "\n",
       "[153 rows x 2 columns]"
      ]
     },
     "execution_count": 19,
     "metadata": {},
     "output_type": "execute_result"
    }
   ],
   "source": [
    "# Checking the amount of media per state\n",
    "import ast\n",
    "\n",
    "# Trasformo le stringhe in liste\n",
    "df_countries = df['countryOfOrigin']\n",
    "df_countries = df_countries.apply(lambda x: ast.literal_eval(x) if isinstance(x, str) else x)\n",
    "\n",
    "# To separate all lists\n",
    "countries_exploded = df_countries.explode('countryOfOrigin')\n",
    "conteggio = countries_exploded.value_counts()\n",
    "\n",
    "# Trasformo in un pandas dataframe\n",
    "df_counts = conteggio.reset_index()\n",
    "df_counts.columns = ['countryOfOrigin', 'counts']\n",
    "\n",
    "df_counts"
   ]
  },
  {
   "cell_type": "code",
   "execution_count": 20,
   "metadata": {},
   "outputs": [
    {
     "data": {
      "application/vnd.plotly.v1+json": {
       "config": {
        "plotlyServerURL": "https://plot.ly"
       },
       "data": [
        {
         "hovertemplate": "countryOfOrigin=%{x}<br>counts=%{y}<extra></extra>",
         "legendgroup": "",
         "marker": {
          "color": "#636efa",
          "symbol": "circle"
         },
         "mode": "markers",
         "name": "",
         "orientation": "v",
         "showlegend": false,
         "type": "scatter",
         "x": [
          "US",
          "GB",
          "JP",
          "FR",
          "CA",
          "IN",
          "DE",
          "IT",
          "ES",
          "AU",
          "MX",
          "XWG",
          "SUHH",
          "TR",
          "BR",
          "SE",
          "NL",
          "KR",
          "AR",
          "RU",
          "HK",
          "FI",
          "CN",
          "DK",
          "PL",
          "GR",
          "BE",
          "PH",
          "HU",
          "AT",
          "NO",
          "IR",
          "CH",
          "PT",
          "CSHH",
          "TW",
          "EG",
          "RO",
          "IL",
          "XYU",
          "IE",
          "CZ",
          "TH",
          "ZA",
          "ID",
          "DDDE",
          "NZ",
          "BD",
          "HR",
          "UA",
          "MY",
          "BG",
          "CL",
          "CO",
          "PK",
          "VE",
          "RS",
          "IS",
          "BA",
          "NP",
          "CU",
          "VN",
          "SG",
          "PE",
          "AL",
          "NG",
          "EE",
          "LU",
          "SI",
          "UY",
          "LT",
          "SK",
          "MA",
          "AE",
          "SA",
          "MK",
          "LB",
          "AM",
          "LV",
          "DO",
          "TN",
          "GE",
          "CY",
          "YUCS",
          "BY",
          "DZ",
          "KW",
          "SY",
          "LK",
          "BH",
          "GP",
          "KE",
          "EC",
          "JO",
          "CSXX",
          "CM",
          "QA",
          "SM",
          "TT",
          "SN",
          "RW",
          "CR",
          "KG",
          "BB",
          "ME",
          "AF",
          "MT",
          "AZ",
          "LI",
          "KP",
          "GT",
          "ET",
          "MQ",
          "GW",
          "JM",
          "MM",
          "SV",
          "KH",
          "TO",
          "NA",
          "TG",
          "GY",
          "SR",
          "PY",
          "MC",
          "XKV",
          "GD",
          "LC",
          "VC",
          "GM",
          "CD",
          "AO",
          "LS",
          "UZ",
          "KY",
          "BO",
          "HT",
          "ZM",
          "LY",
          "KZ",
          "AD",
          "ML",
          "ZW",
          "BF",
          "GL",
          "IQ",
          "GN",
          "MO",
          "EH",
          "NE",
          "PR",
          "VA",
          "GA"
         ],
         "xaxis": "x",
         "y": [
          7134,
          1775,
          846,
          826,
          621,
          616,
          502,
          422,
          325,
          315,
          245,
          243,
          238,
          187,
          177,
          171,
          169,
          165,
          148,
          143,
          141,
          135,
          121,
          121,
          121,
          115,
          113,
          102,
          99,
          93,
          91,
          82,
          79,
          78,
          74,
          62,
          62,
          54,
          53,
          53,
          49,
          47,
          46,
          45,
          33,
          33,
          30,
          27,
          26,
          25,
          24,
          23,
          23,
          22,
          19,
          18,
          16,
          13,
          13,
          13,
          13,
          12,
          11,
          11,
          11,
          10,
          9,
          9,
          9,
          8,
          8,
          8,
          7,
          7,
          7,
          7,
          6,
          6,
          5,
          5,
          5,
          5,
          5,
          5,
          4,
          4,
          4,
          4,
          3,
          3,
          3,
          3,
          3,
          3,
          3,
          3,
          3,
          2,
          2,
          2,
          2,
          2,
          2,
          2,
          2,
          2,
          2,
          2,
          2,
          2,
          2,
          2,
          2,
          2,
          1,
          1,
          1,
          1,
          1,
          1,
          1,
          1,
          1,
          1,
          1,
          1,
          1,
          1,
          1,
          1,
          1,
          1,
          1,
          1,
          1,
          1,
          1,
          1,
          1,
          1,
          1,
          1,
          1,
          1,
          1,
          1,
          1,
          1,
          1,
          1,
          1,
          1,
          1
         ],
         "yaxis": "y"
        }
       ],
       "layout": {
        "legend": {
         "tracegroupgap": 0
        },
        "margin": {
         "t": 60
        },
        "template": {
         "data": {
          "bar": [
           {
            "error_x": {
             "color": "#2a3f5f"
            },
            "error_y": {
             "color": "#2a3f5f"
            },
            "marker": {
             "line": {
              "color": "#E5ECF6",
              "width": 0.5
             },
             "pattern": {
              "fillmode": "overlay",
              "size": 10,
              "solidity": 0.2
             }
            },
            "type": "bar"
           }
          ],
          "barpolar": [
           {
            "marker": {
             "line": {
              "color": "#E5ECF6",
              "width": 0.5
             },
             "pattern": {
              "fillmode": "overlay",
              "size": 10,
              "solidity": 0.2
             }
            },
            "type": "barpolar"
           }
          ],
          "carpet": [
           {
            "aaxis": {
             "endlinecolor": "#2a3f5f",
             "gridcolor": "white",
             "linecolor": "white",
             "minorgridcolor": "white",
             "startlinecolor": "#2a3f5f"
            },
            "baxis": {
             "endlinecolor": "#2a3f5f",
             "gridcolor": "white",
             "linecolor": "white",
             "minorgridcolor": "white",
             "startlinecolor": "#2a3f5f"
            },
            "type": "carpet"
           }
          ],
          "choropleth": [
           {
            "colorbar": {
             "outlinewidth": 0,
             "ticks": ""
            },
            "type": "choropleth"
           }
          ],
          "contour": [
           {
            "colorbar": {
             "outlinewidth": 0,
             "ticks": ""
            },
            "colorscale": [
             [
              0,
              "#0d0887"
             ],
             [
              0.1111111111111111,
              "#46039f"
             ],
             [
              0.2222222222222222,
              "#7201a8"
             ],
             [
              0.3333333333333333,
              "#9c179e"
             ],
             [
              0.4444444444444444,
              "#bd3786"
             ],
             [
              0.5555555555555556,
              "#d8576b"
             ],
             [
              0.6666666666666666,
              "#ed7953"
             ],
             [
              0.7777777777777778,
              "#fb9f3a"
             ],
             [
              0.8888888888888888,
              "#fdca26"
             ],
             [
              1,
              "#f0f921"
             ]
            ],
            "type": "contour"
           }
          ],
          "contourcarpet": [
           {
            "colorbar": {
             "outlinewidth": 0,
             "ticks": ""
            },
            "type": "contourcarpet"
           }
          ],
          "heatmap": [
           {
            "colorbar": {
             "outlinewidth": 0,
             "ticks": ""
            },
            "colorscale": [
             [
              0,
              "#0d0887"
             ],
             [
              0.1111111111111111,
              "#46039f"
             ],
             [
              0.2222222222222222,
              "#7201a8"
             ],
             [
              0.3333333333333333,
              "#9c179e"
             ],
             [
              0.4444444444444444,
              "#bd3786"
             ],
             [
              0.5555555555555556,
              "#d8576b"
             ],
             [
              0.6666666666666666,
              "#ed7953"
             ],
             [
              0.7777777777777778,
              "#fb9f3a"
             ],
             [
              0.8888888888888888,
              "#fdca26"
             ],
             [
              1,
              "#f0f921"
             ]
            ],
            "type": "heatmap"
           }
          ],
          "heatmapgl": [
           {
            "colorbar": {
             "outlinewidth": 0,
             "ticks": ""
            },
            "colorscale": [
             [
              0,
              "#0d0887"
             ],
             [
              0.1111111111111111,
              "#46039f"
             ],
             [
              0.2222222222222222,
              "#7201a8"
             ],
             [
              0.3333333333333333,
              "#9c179e"
             ],
             [
              0.4444444444444444,
              "#bd3786"
             ],
             [
              0.5555555555555556,
              "#d8576b"
             ],
             [
              0.6666666666666666,
              "#ed7953"
             ],
             [
              0.7777777777777778,
              "#fb9f3a"
             ],
             [
              0.8888888888888888,
              "#fdca26"
             ],
             [
              1,
              "#f0f921"
             ]
            ],
            "type": "heatmapgl"
           }
          ],
          "histogram": [
           {
            "marker": {
             "pattern": {
              "fillmode": "overlay",
              "size": 10,
              "solidity": 0.2
             }
            },
            "type": "histogram"
           }
          ],
          "histogram2d": [
           {
            "colorbar": {
             "outlinewidth": 0,
             "ticks": ""
            },
            "colorscale": [
             [
              0,
              "#0d0887"
             ],
             [
              0.1111111111111111,
              "#46039f"
             ],
             [
              0.2222222222222222,
              "#7201a8"
             ],
             [
              0.3333333333333333,
              "#9c179e"
             ],
             [
              0.4444444444444444,
              "#bd3786"
             ],
             [
              0.5555555555555556,
              "#d8576b"
             ],
             [
              0.6666666666666666,
              "#ed7953"
             ],
             [
              0.7777777777777778,
              "#fb9f3a"
             ],
             [
              0.8888888888888888,
              "#fdca26"
             ],
             [
              1,
              "#f0f921"
             ]
            ],
            "type": "histogram2d"
           }
          ],
          "histogram2dcontour": [
           {
            "colorbar": {
             "outlinewidth": 0,
             "ticks": ""
            },
            "colorscale": [
             [
              0,
              "#0d0887"
             ],
             [
              0.1111111111111111,
              "#46039f"
             ],
             [
              0.2222222222222222,
              "#7201a8"
             ],
             [
              0.3333333333333333,
              "#9c179e"
             ],
             [
              0.4444444444444444,
              "#bd3786"
             ],
             [
              0.5555555555555556,
              "#d8576b"
             ],
             [
              0.6666666666666666,
              "#ed7953"
             ],
             [
              0.7777777777777778,
              "#fb9f3a"
             ],
             [
              0.8888888888888888,
              "#fdca26"
             ],
             [
              1,
              "#f0f921"
             ]
            ],
            "type": "histogram2dcontour"
           }
          ],
          "mesh3d": [
           {
            "colorbar": {
             "outlinewidth": 0,
             "ticks": ""
            },
            "type": "mesh3d"
           }
          ],
          "parcoords": [
           {
            "line": {
             "colorbar": {
              "outlinewidth": 0,
              "ticks": ""
             }
            },
            "type": "parcoords"
           }
          ],
          "pie": [
           {
            "automargin": true,
            "type": "pie"
           }
          ],
          "scatter": [
           {
            "fillpattern": {
             "fillmode": "overlay",
             "size": 10,
             "solidity": 0.2
            },
            "type": "scatter"
           }
          ],
          "scatter3d": [
           {
            "line": {
             "colorbar": {
              "outlinewidth": 0,
              "ticks": ""
             }
            },
            "marker": {
             "colorbar": {
              "outlinewidth": 0,
              "ticks": ""
             }
            },
            "type": "scatter3d"
           }
          ],
          "scattercarpet": [
           {
            "marker": {
             "colorbar": {
              "outlinewidth": 0,
              "ticks": ""
             }
            },
            "type": "scattercarpet"
           }
          ],
          "scattergeo": [
           {
            "marker": {
             "colorbar": {
              "outlinewidth": 0,
              "ticks": ""
             }
            },
            "type": "scattergeo"
           }
          ],
          "scattergl": [
           {
            "marker": {
             "colorbar": {
              "outlinewidth": 0,
              "ticks": ""
             }
            },
            "type": "scattergl"
           }
          ],
          "scattermapbox": [
           {
            "marker": {
             "colorbar": {
              "outlinewidth": 0,
              "ticks": ""
             }
            },
            "type": "scattermapbox"
           }
          ],
          "scatterpolar": [
           {
            "marker": {
             "colorbar": {
              "outlinewidth": 0,
              "ticks": ""
             }
            },
            "type": "scatterpolar"
           }
          ],
          "scatterpolargl": [
           {
            "marker": {
             "colorbar": {
              "outlinewidth": 0,
              "ticks": ""
             }
            },
            "type": "scatterpolargl"
           }
          ],
          "scatterternary": [
           {
            "marker": {
             "colorbar": {
              "outlinewidth": 0,
              "ticks": ""
             }
            },
            "type": "scatterternary"
           }
          ],
          "surface": [
           {
            "colorbar": {
             "outlinewidth": 0,
             "ticks": ""
            },
            "colorscale": [
             [
              0,
              "#0d0887"
             ],
             [
              0.1111111111111111,
              "#46039f"
             ],
             [
              0.2222222222222222,
              "#7201a8"
             ],
             [
              0.3333333333333333,
              "#9c179e"
             ],
             [
              0.4444444444444444,
              "#bd3786"
             ],
             [
              0.5555555555555556,
              "#d8576b"
             ],
             [
              0.6666666666666666,
              "#ed7953"
             ],
             [
              0.7777777777777778,
              "#fb9f3a"
             ],
             [
              0.8888888888888888,
              "#fdca26"
             ],
             [
              1,
              "#f0f921"
             ]
            ],
            "type": "surface"
           }
          ],
          "table": [
           {
            "cells": {
             "fill": {
              "color": "#EBF0F8"
             },
             "line": {
              "color": "white"
             }
            },
            "header": {
             "fill": {
              "color": "#C8D4E3"
             },
             "line": {
              "color": "white"
             }
            },
            "type": "table"
           }
          ]
         },
         "layout": {
          "annotationdefaults": {
           "arrowcolor": "#2a3f5f",
           "arrowhead": 0,
           "arrowwidth": 1
          },
          "autotypenumbers": "strict",
          "coloraxis": {
           "colorbar": {
            "outlinewidth": 0,
            "ticks": ""
           }
          },
          "colorscale": {
           "diverging": [
            [
             0,
             "#8e0152"
            ],
            [
             0.1,
             "#c51b7d"
            ],
            [
             0.2,
             "#de77ae"
            ],
            [
             0.3,
             "#f1b6da"
            ],
            [
             0.4,
             "#fde0ef"
            ],
            [
             0.5,
             "#f7f7f7"
            ],
            [
             0.6,
             "#e6f5d0"
            ],
            [
             0.7,
             "#b8e186"
            ],
            [
             0.8,
             "#7fbc41"
            ],
            [
             0.9,
             "#4d9221"
            ],
            [
             1,
             "#276419"
            ]
           ],
           "sequential": [
            [
             0,
             "#0d0887"
            ],
            [
             0.1111111111111111,
             "#46039f"
            ],
            [
             0.2222222222222222,
             "#7201a8"
            ],
            [
             0.3333333333333333,
             "#9c179e"
            ],
            [
             0.4444444444444444,
             "#bd3786"
            ],
            [
             0.5555555555555556,
             "#d8576b"
            ],
            [
             0.6666666666666666,
             "#ed7953"
            ],
            [
             0.7777777777777778,
             "#fb9f3a"
            ],
            [
             0.8888888888888888,
             "#fdca26"
            ],
            [
             1,
             "#f0f921"
            ]
           ],
           "sequentialminus": [
            [
             0,
             "#0d0887"
            ],
            [
             0.1111111111111111,
             "#46039f"
            ],
            [
             0.2222222222222222,
             "#7201a8"
            ],
            [
             0.3333333333333333,
             "#9c179e"
            ],
            [
             0.4444444444444444,
             "#bd3786"
            ],
            [
             0.5555555555555556,
             "#d8576b"
            ],
            [
             0.6666666666666666,
             "#ed7953"
            ],
            [
             0.7777777777777778,
             "#fb9f3a"
            ],
            [
             0.8888888888888888,
             "#fdca26"
            ],
            [
             1,
             "#f0f921"
            ]
           ]
          },
          "colorway": [
           "#636efa",
           "#EF553B",
           "#00cc96",
           "#ab63fa",
           "#FFA15A",
           "#19d3f3",
           "#FF6692",
           "#B6E880",
           "#FF97FF",
           "#FECB52"
          ],
          "font": {
           "color": "#2a3f5f"
          },
          "geo": {
           "bgcolor": "white",
           "lakecolor": "white",
           "landcolor": "#E5ECF6",
           "showlakes": true,
           "showland": true,
           "subunitcolor": "white"
          },
          "hoverlabel": {
           "align": "left"
          },
          "hovermode": "closest",
          "mapbox": {
           "style": "light"
          },
          "paper_bgcolor": "white",
          "plot_bgcolor": "#E5ECF6",
          "polar": {
           "angularaxis": {
            "gridcolor": "white",
            "linecolor": "white",
            "ticks": ""
           },
           "bgcolor": "#E5ECF6",
           "radialaxis": {
            "gridcolor": "white",
            "linecolor": "white",
            "ticks": ""
           }
          },
          "scene": {
           "xaxis": {
            "backgroundcolor": "#E5ECF6",
            "gridcolor": "white",
            "gridwidth": 2,
            "linecolor": "white",
            "showbackground": true,
            "ticks": "",
            "zerolinecolor": "white"
           },
           "yaxis": {
            "backgroundcolor": "#E5ECF6",
            "gridcolor": "white",
            "gridwidth": 2,
            "linecolor": "white",
            "showbackground": true,
            "ticks": "",
            "zerolinecolor": "white"
           },
           "zaxis": {
            "backgroundcolor": "#E5ECF6",
            "gridcolor": "white",
            "gridwidth": 2,
            "linecolor": "white",
            "showbackground": true,
            "ticks": "",
            "zerolinecolor": "white"
           }
          },
          "shapedefaults": {
           "line": {
            "color": "#2a3f5f"
           }
          },
          "ternary": {
           "aaxis": {
            "gridcolor": "white",
            "linecolor": "white",
            "ticks": ""
           },
           "baxis": {
            "gridcolor": "white",
            "linecolor": "white",
            "ticks": ""
           },
           "bgcolor": "#E5ECF6",
           "caxis": {
            "gridcolor": "white",
            "linecolor": "white",
            "ticks": ""
           }
          },
          "title": {
           "x": 0.05
          },
          "xaxis": {
           "automargin": true,
           "gridcolor": "white",
           "linecolor": "white",
           "ticks": "",
           "title": {
            "standoff": 15
           },
           "zerolinecolor": "white",
           "zerolinewidth": 2
          },
          "yaxis": {
           "automargin": true,
           "gridcolor": "white",
           "linecolor": "white",
           "ticks": "",
           "title": {
            "standoff": 15
           },
           "zerolinecolor": "white",
           "zerolinewidth": 2
          }
         }
        },
        "title": {
         "text": "Counts of instances for each State on a log scale"
        },
        "xaxis": {
         "anchor": "y",
         "domain": [
          0,
          1
         ],
         "title": {
          "text": "Country of Origin"
         }
        },
        "yaxis": {
         "anchor": "x",
         "domain": [
          0,
          1
         ],
         "title": {
          "text": "Counts"
         },
         "type": "log"
        }
       }
      }
     },
     "metadata": {},
     "output_type": "display_data"
    }
   ],
   "source": [
    "# Using a graph to visualize the distribution\n",
    "import plotly.express as px\n",
    "\n",
    "fig = px.scatter(df_counts, x='countryOfOrigin', y='counts', log_y=True)\n",
    "fig.update_layout(title='Counts of instances for each State on a log scale',\n",
    "                  xaxis_title='Country of Origin',\n",
    "                  yaxis_title='Counts')\n",
    "fig.show()"
   ]
  },
  {
   "cell_type": "code",
   "execution_count": 21,
   "metadata": {},
   "outputs": [
    {
     "name": "stdout",
     "output_type": "stream",
     "text": [
      "382\n"
     ]
    }
   ],
   "source": [
    "# Dealing with the genres column\n",
    "# Creating boolean columns for each genres where 1=the type is of that genre\n",
    "print(df['genres'].isna().sum())\n",
    "df['genres'] = df['genres'].fillna('')"
   ]
  },
  {
   "cell_type": "code",
   "execution_count": 22,
   "metadata": {},
   "outputs": [],
   "source": [
    "#generi_dummies = df['genres'].str.get_dummies(sep=',')\n",
    "\n",
    "#df = pd.concat([df.drop('genres', axis=1), generi_dummies], axis=1)"
   ]
  },
  {
   "cell_type": "code",
   "execution_count": 23,
   "metadata": {},
   "outputs": [],
   "source": [
    "#df.drop('isAdult', axis = 1)"
   ]
  },
  {
   "cell_type": "code",
   "execution_count": 24,
   "metadata": {},
   "outputs": [
    {
     "name": "stdout",
     "output_type": "stream",
     "text": [
      "0          1            2        \n",
      "Action     Adventure    Animation    320\n",
      "Crime      Drama        Mystery      292\n",
      "Action     Crime        Drama        230\n",
      "Comedy     Drama        Romance      197\n",
      "Animation  Comedy       Family       157\n",
      "                                    ... \n",
      "Biography  Documentary  Fantasy        1\n",
      "           Crime        Thriller       1\n",
      "           Comedy       History        1\n",
      "                        Crime          1\n",
      "Sci-Fi     Short        Western        1\n",
      "Name: count, Length: 560, dtype: int64\n"
     ]
    }
   ],
   "source": [
    "# Checking the max number of genres present for a single instance\n",
    "generi_split = df['genres'].str.split(',', expand=True)\n",
    "print(generi_split.value_counts())\n"
   ]
  },
  {
   "cell_type": "code",
   "execution_count": 25,
   "metadata": {},
   "outputs": [],
   "source": [
    "generi_split.columns = ['genere_1', 'genere_2', 'genere_3']\n",
    "\n",
    "df = pd.concat([df.drop('genres', axis=1), generi_split[['genere_1', 'genere_2', 'genere_3']]], axis=1)"
   ]
  },
  {
   "cell_type": "code",
   "execution_count": 26,
   "metadata": {},
   "outputs": [
    {
     "data": {
      "text/html": [
       "<div>\n",
       "<style scoped>\n",
       "    .dataframe tbody tr th:only-of-type {\n",
       "        vertical-align: middle;\n",
       "    }\n",
       "\n",
       "    .dataframe tbody tr th {\n",
       "        vertical-align: top;\n",
       "    }\n",
       "\n",
       "    .dataframe thead th {\n",
       "        text-align: right;\n",
       "    }\n",
       "</style>\n",
       "<table border=\"1\" class=\"dataframe\">\n",
       "  <thead>\n",
       "    <tr style=\"text-align: right;\">\n",
       "      <th></th>\n",
       "      <th>originalTitle</th>\n",
       "      <th>rating</th>\n",
       "      <th>startYear</th>\n",
       "      <th>endYear</th>\n",
       "      <th>runtimeMinutes</th>\n",
       "      <th>awardWins</th>\n",
       "      <th>numVotes</th>\n",
       "      <th>worstRating</th>\n",
       "      <th>bestRating</th>\n",
       "      <th>totalImages</th>\n",
       "      <th>...</th>\n",
       "      <th>canHaveEpisodes</th>\n",
       "      <th>isRatable</th>\n",
       "      <th>isAdult</th>\n",
       "      <th>numRegions</th>\n",
       "      <th>userReviewsTotal</th>\n",
       "      <th>ratingCount</th>\n",
       "      <th>countryOfOrigin</th>\n",
       "      <th>genere_1</th>\n",
       "      <th>genere_2</th>\n",
       "      <th>genere_3</th>\n",
       "    </tr>\n",
       "  </thead>\n",
       "  <tbody>\n",
       "    <tr>\n",
       "      <th>0</th>\n",
       "      <td>Neogenic Nightmare Chapter 3: Hydro-Man</td>\n",
       "      <td>7.5</td>\n",
       "      <td>1995</td>\n",
       "      <td>None</td>\n",
       "      <td>None</td>\n",
       "      <td>0.0</td>\n",
       "      <td>779</td>\n",
       "      <td>1</td>\n",
       "      <td>10</td>\n",
       "      <td>1</td>\n",
       "      <td>...</td>\n",
       "      <td>False</td>\n",
       "      <td>True</td>\n",
       "      <td>0</td>\n",
       "      <td>1</td>\n",
       "      <td>0</td>\n",
       "      <td>781</td>\n",
       "      <td>['US']</td>\n",
       "      <td>Action</td>\n",
       "      <td>Adventure</td>\n",
       "      <td>Animation</td>\n",
       "    </tr>\n",
       "    <tr>\n",
       "      <th>1</th>\n",
       "      <td>Looping</td>\n",
       "      <td>5.5</td>\n",
       "      <td>1982</td>\n",
       "      <td>None</td>\n",
       "      <td>None</td>\n",
       "      <td>0.0</td>\n",
       "      <td>11</td>\n",
       "      <td>1</td>\n",
       "      <td>10</td>\n",
       "      <td>1</td>\n",
       "      <td>...</td>\n",
       "      <td>False</td>\n",
       "      <td>True</td>\n",
       "      <td>0</td>\n",
       "      <td>1</td>\n",
       "      <td>0</td>\n",
       "      <td>11</td>\n",
       "      <td>['XWG']</td>\n",
       "      <td>Action</td>\n",
       "      <td>None</td>\n",
       "      <td>None</td>\n",
       "    </tr>\n",
       "    <tr>\n",
       "      <th>2</th>\n",
       "      <td>Idealnaya para</td>\n",
       "      <td>5.5</td>\n",
       "      <td>1992</td>\n",
       "      <td>None</td>\n",
       "      <td>None</td>\n",
       "      <td>0.0</td>\n",
       "      <td>38</td>\n",
       "      <td>1</td>\n",
       "      <td>10</td>\n",
       "      <td>1</td>\n",
       "      <td>...</td>\n",
       "      <td>False</td>\n",
       "      <td>True</td>\n",
       "      <td>0</td>\n",
       "      <td>1</td>\n",
       "      <td>1</td>\n",
       "      <td>38</td>\n",
       "      <td>['RU']</td>\n",
       "      <td>Comedy</td>\n",
       "      <td>None</td>\n",
       "      <td>None</td>\n",
       "    </tr>\n",
       "    <tr>\n",
       "      <th>3</th>\n",
       "      <td>MasterChef Celebrity México</td>\n",
       "      <td>5.5</td>\n",
       "      <td>2021</td>\n",
       "      <td>None</td>\n",
       "      <td>None</td>\n",
       "      <td>0.0</td>\n",
       "      <td>15</td>\n",
       "      <td>1</td>\n",
       "      <td>10</td>\n",
       "      <td>22</td>\n",
       "      <td>...</td>\n",
       "      <td>True</td>\n",
       "      <td>True</td>\n",
       "      <td>0</td>\n",
       "      <td>1</td>\n",
       "      <td>0</td>\n",
       "      <td>15</td>\n",
       "      <td>['MX']</td>\n",
       "      <td>Reality-TV</td>\n",
       "      <td>None</td>\n",
       "      <td>None</td>\n",
       "    </tr>\n",
       "    <tr>\n",
       "      <th>4</th>\n",
       "      <td>Seutateueob</td>\n",
       "      <td>7.5</td>\n",
       "      <td>2020</td>\n",
       "      <td>2020</td>\n",
       "      <td>80</td>\n",
       "      <td>1.0</td>\n",
       "      <td>15718</td>\n",
       "      <td>1</td>\n",
       "      <td>10</td>\n",
       "      <td>347</td>\n",
       "      <td>...</td>\n",
       "      <td>True</td>\n",
       "      <td>True</td>\n",
       "      <td>0</td>\n",
       "      <td>32</td>\n",
       "      <td>452</td>\n",
       "      <td>15746</td>\n",
       "      <td>['KR']</td>\n",
       "      <td>Comedy</td>\n",
       "      <td>Drama</td>\n",
       "      <td>Romance</td>\n",
       "    </tr>\n",
       "    <tr>\n",
       "      <th>...</th>\n",
       "      <td>...</td>\n",
       "      <td>...</td>\n",
       "      <td>...</td>\n",
       "      <td>...</td>\n",
       "      <td>...</td>\n",
       "      <td>...</td>\n",
       "      <td>...</td>\n",
       "      <td>...</td>\n",
       "      <td>...</td>\n",
       "      <td>...</td>\n",
       "      <td>...</td>\n",
       "      <td>...</td>\n",
       "      <td>...</td>\n",
       "      <td>...</td>\n",
       "      <td>...</td>\n",
       "      <td>...</td>\n",
       "      <td>...</td>\n",
       "      <td>...</td>\n",
       "      <td>...</td>\n",
       "      <td>...</td>\n",
       "      <td>...</td>\n",
       "    </tr>\n",
       "    <tr>\n",
       "      <th>16426</th>\n",
       "      <td>Caprices</td>\n",
       "      <td>5.5</td>\n",
       "      <td>1942</td>\n",
       "      <td>None</td>\n",
       "      <td>None</td>\n",
       "      <td>0.0</td>\n",
       "      <td>73</td>\n",
       "      <td>1</td>\n",
       "      <td>10</td>\n",
       "      <td>4</td>\n",
       "      <td>...</td>\n",
       "      <td>False</td>\n",
       "      <td>True</td>\n",
       "      <td>0</td>\n",
       "      <td>14</td>\n",
       "      <td>4</td>\n",
       "      <td>73</td>\n",
       "      <td>['FR']</td>\n",
       "      <td>Comedy</td>\n",
       "      <td>None</td>\n",
       "      <td>None</td>\n",
       "    </tr>\n",
       "    <tr>\n",
       "      <th>16427</th>\n",
       "      <td>Haar Jeet</td>\n",
       "      <td>4.5</td>\n",
       "      <td>1990</td>\n",
       "      <td>None</td>\n",
       "      <td>None</td>\n",
       "      <td>0.0</td>\n",
       "      <td>15</td>\n",
       "      <td>1</td>\n",
       "      <td>10</td>\n",
       "      <td>2</td>\n",
       "      <td>...</td>\n",
       "      <td>False</td>\n",
       "      <td>True</td>\n",
       "      <td>0</td>\n",
       "      <td>1</td>\n",
       "      <td>1</td>\n",
       "      <td>15</td>\n",
       "      <td>['IN']</td>\n",
       "      <td>Action</td>\n",
       "      <td>Drama</td>\n",
       "      <td>Thriller</td>\n",
       "    </tr>\n",
       "    <tr>\n",
       "      <th>16428</th>\n",
       "      <td>Kotigobba 3</td>\n",
       "      <td>5.5</td>\n",
       "      <td>2021</td>\n",
       "      <td>None</td>\n",
       "      <td>140</td>\n",
       "      <td>0.0</td>\n",
       "      <td>2560</td>\n",
       "      <td>1</td>\n",
       "      <td>10</td>\n",
       "      <td>39</td>\n",
       "      <td>...</td>\n",
       "      <td>False</td>\n",
       "      <td>True</td>\n",
       "      <td>0</td>\n",
       "      <td>5</td>\n",
       "      <td>49</td>\n",
       "      <td>2560</td>\n",
       "      <td>['IN']</td>\n",
       "      <td>Action</td>\n",
       "      <td>Drama</td>\n",
       "      <td>Romance</td>\n",
       "    </tr>\n",
       "    <tr>\n",
       "      <th>16429</th>\n",
       "      <td>Ator l'invincibile</td>\n",
       "      <td>3.5</td>\n",
       "      <td>1982</td>\n",
       "      <td>None</td>\n",
       "      <td>None</td>\n",
       "      <td>0.0</td>\n",
       "      <td>3011</td>\n",
       "      <td>1</td>\n",
       "      <td>10</td>\n",
       "      <td>52</td>\n",
       "      <td>...</td>\n",
       "      <td>False</td>\n",
       "      <td>True</td>\n",
       "      <td>0</td>\n",
       "      <td>26</td>\n",
       "      <td>58</td>\n",
       "      <td>3012</td>\n",
       "      <td>['IT']</td>\n",
       "      <td>Action</td>\n",
       "      <td>Adventure</td>\n",
       "      <td>Fantasy</td>\n",
       "    </tr>\n",
       "    <tr>\n",
       "      <th>16430</th>\n",
       "      <td>Anniversary Night</td>\n",
       "      <td>9.5</td>\n",
       "      <td>2022</td>\n",
       "      <td>None</td>\n",
       "      <td>None</td>\n",
       "      <td>0.0</td>\n",
       "      <td>9</td>\n",
       "      <td>1</td>\n",
       "      <td>10</td>\n",
       "      <td>7</td>\n",
       "      <td>...</td>\n",
       "      <td>False</td>\n",
       "      <td>True</td>\n",
       "      <td>0</td>\n",
       "      <td>1</td>\n",
       "      <td>0</td>\n",
       "      <td>9</td>\n",
       "      <td>['IN']</td>\n",
       "      <td>Drama</td>\n",
       "      <td>Short</td>\n",
       "      <td>None</td>\n",
       "    </tr>\n",
       "  </tbody>\n",
       "</table>\n",
       "<p>16431 rows × 25 columns</p>\n",
       "</div>"
      ],
      "text/plain": [
       "                                 originalTitle  rating  startYear endYear  \\\n",
       "0      Neogenic Nightmare Chapter 3: Hydro-Man     7.5       1995    None   \n",
       "1                                      Looping     5.5       1982    None   \n",
       "2                               Idealnaya para     5.5       1992    None   \n",
       "3                  MasterChef Celebrity México     5.5       2021    None   \n",
       "4                                  Seutateueob     7.5       2020    2020   \n",
       "...                                        ...     ...        ...     ...   \n",
       "16426                                 Caprices     5.5       1942    None   \n",
       "16427                                Haar Jeet     4.5       1990    None   \n",
       "16428                              Kotigobba 3     5.5       2021    None   \n",
       "16429                       Ator l'invincibile     3.5       1982    None   \n",
       "16430                        Anniversary Night     9.5       2022    None   \n",
       "\n",
       "      runtimeMinutes  awardWins  numVotes  worstRating  bestRating  \\\n",
       "0               None        0.0       779            1          10   \n",
       "1               None        0.0        11            1          10   \n",
       "2               None        0.0        38            1          10   \n",
       "3               None        0.0        15            1          10   \n",
       "4                 80        1.0     15718            1          10   \n",
       "...              ...        ...       ...          ...         ...   \n",
       "16426           None        0.0        73            1          10   \n",
       "16427           None        0.0        15            1          10   \n",
       "16428            140        0.0      2560            1          10   \n",
       "16429           None        0.0      3011            1          10   \n",
       "16430           None        0.0         9            1          10   \n",
       "\n",
       "       totalImages  ...  canHaveEpisodes  isRatable  isAdult numRegions  \\\n",
       "0                1  ...            False       True        0          1   \n",
       "1                1  ...            False       True        0          1   \n",
       "2                1  ...            False       True        0          1   \n",
       "3               22  ...             True       True        0          1   \n",
       "4              347  ...             True       True        0         32   \n",
       "...            ...  ...              ...        ...      ...        ...   \n",
       "16426            4  ...            False       True        0         14   \n",
       "16427            2  ...            False       True        0          1   \n",
       "16428           39  ...            False       True        0          5   \n",
       "16429           52  ...            False       True        0         26   \n",
       "16430            7  ...            False       True        0          1   \n",
       "\n",
       "       userReviewsTotal  ratingCount  countryOfOrigin    genere_1   genere_2  \\\n",
       "0                     0          781           ['US']      Action  Adventure   \n",
       "1                     0           11          ['XWG']      Action       None   \n",
       "2                     1           38           ['RU']      Comedy       None   \n",
       "3                     0           15           ['MX']  Reality-TV       None   \n",
       "4                   452        15746           ['KR']      Comedy      Drama   \n",
       "...                 ...          ...              ...         ...        ...   \n",
       "16426                 4           73           ['FR']      Comedy       None   \n",
       "16427                 1           15           ['IN']      Action      Drama   \n",
       "16428                49         2560           ['IN']      Action      Drama   \n",
       "16429                58         3012           ['IT']      Action  Adventure   \n",
       "16430                 0            9           ['IN']       Drama      Short   \n",
       "\n",
       "        genere_3  \n",
       "0      Animation  \n",
       "1           None  \n",
       "2           None  \n",
       "3           None  \n",
       "4        Romance  \n",
       "...          ...  \n",
       "16426       None  \n",
       "16427   Thriller  \n",
       "16428    Romance  \n",
       "16429    Fantasy  \n",
       "16430       None  \n",
       "\n",
       "[16431 rows x 25 columns]"
      ]
     },
     "execution_count": 26,
     "metadata": {},
     "output_type": "execute_result"
    }
   ],
   "source": [
    "df"
   ]
  },
  {
   "cell_type": "code",
   "execution_count": 27,
   "metadata": {},
   "outputs": [
    {
     "data": {
      "text/plain": [
       "0"
      ]
     },
     "execution_count": 27,
     "metadata": {},
     "output_type": "execute_result"
    }
   ],
   "source": [
    "df['genere_1'].isna().sum()"
   ]
  },
  {
   "cell_type": "code",
   "execution_count": 38,
   "metadata": {},
   "outputs": [
    {
     "data": {
      "text/plain": [
       "6325"
      ]
     },
     "execution_count": 38,
     "metadata": {},
     "output_type": "execute_result"
    }
   ],
   "source": [
    "df['genere_2'].isna().sum()"
   ]
  },
  {
   "cell_type": "code",
   "execution_count": 39,
   "metadata": {},
   "outputs": [
    {
     "data": {
      "text/plain": [
       "11324"
      ]
     },
     "execution_count": 39,
     "metadata": {},
     "output_type": "execute_result"
    }
   ],
   "source": [
    "df['genere_3'].isna().sum()"
   ]
  },
  {
   "attachments": {},
   "cell_type": "markdown",
   "metadata": {},
   "source": [
    "controllare correlazione tra i generi ed eventualmente prendere il primo"
   ]
  },
  {
   "attachments": {},
   "cell_type": "markdown",
   "metadata": {},
   "source": [
    "#### Feature Selection"
   ]
  },
  {
   "cell_type": "code",
   "execution_count": 28,
   "metadata": {},
   "outputs": [
    {
     "data": {
      "image/png": "[encoded data removed]",
      "text/plain": [
       "<Figure size 1200x1000 with 2 Axes>"
      ]
     },
     "metadata": {},
     "output_type": "display_data"
    }
   ],
   "source": [
    "# Checking the presence of redundant numeric features to perform feature selection\n",
    "corr_matrix = df.corr(numeric_only=True)\n",
    "\n",
    "plt.figure(figsize=(12, 10))\n",
    "sns.heatmap(corr_matrix, annot=True, cmap='coolwarm', vmin=-1, vmax=1)\n",
    "plt.title('Correlation Matrix')\n",
    "plt.show()"
   ]
  },
  {
   "cell_type": "code",
   "execution_count": 29,
   "metadata": {},
   "outputs": [
    {
     "name": "stdout",
     "output_type": "stream",
     "text": [
      "      rowIndex       columnIndex  correlation\n",
      "0     numVotes  userReviewsTotal     0.752175\n",
      "1     numVotes       ratingCount     1.000000\n",
      "5  ratingCount  userReviewsTotal     0.752223\n"
     ]
    }
   ],
   "source": [
    "high_corr = []\n",
    "\n",
    "# Show correlations higher than 0.7.\n",
    "filt_corr = corr_matrix[(corr_matrix > 0.7) & (corr_matrix < 1)]\n",
    "result = filt_corr.stack().reset_index()\n",
    "result.columns = ['rowIndex', 'columnIndex', 'correlation']\n",
    "result = result[result['rowIndex'] < result['columnIndex']]\n",
    "print(result)"
   ]
  },
  {
   "cell_type": "code",
   "execution_count": 30,
   "metadata": {},
   "outputs": [
    {
     "data": {
      "text/html": [
       "<div>\n",
       "<style scoped>\n",
       "    .dataframe tbody tr th:only-of-type {\n",
       "        vertical-align: middle;\n",
       "    }\n",
       "\n",
       "    .dataframe tbody tr th {\n",
       "        vertical-align: top;\n",
       "    }\n",
       "\n",
       "    .dataframe thead th {\n",
       "        text-align: right;\n",
       "    }\n",
       "</style>\n",
       "<table border=\"1\" class=\"dataframe\">\n",
       "  <thead>\n",
       "    <tr style=\"text-align: right;\">\n",
       "      <th></th>\n",
       "      <th>originalTitle</th>\n",
       "      <th>rating</th>\n",
       "      <th>startYear</th>\n",
       "      <th>endYear</th>\n",
       "      <th>runtimeMinutes</th>\n",
       "      <th>awardWins</th>\n",
       "      <th>worstRating</th>\n",
       "      <th>bestRating</th>\n",
       "      <th>totalImages</th>\n",
       "      <th>totalVideos</th>\n",
       "      <th>...</th>\n",
       "      <th>awardNominationsExcludeWins</th>\n",
       "      <th>canHaveEpisodes</th>\n",
       "      <th>isRatable</th>\n",
       "      <th>isAdult</th>\n",
       "      <th>numRegions</th>\n",
       "      <th>countryOfOrigin</th>\n",
       "      <th>genere_1</th>\n",
       "      <th>genere_2</th>\n",
       "      <th>genere_3</th>\n",
       "      <th>num_ratings</th>\n",
       "    </tr>\n",
       "  </thead>\n",
       "  <tbody>\n",
       "    <tr>\n",
       "      <th>0</th>\n",
       "      <td>Neogenic Nightmare Chapter 3: Hydro-Man</td>\n",
       "      <td>7.5</td>\n",
       "      <td>1995</td>\n",
       "      <td>None</td>\n",
       "      <td>None</td>\n",
       "      <td>0.0</td>\n",
       "      <td>1</td>\n",
       "      <td>10</td>\n",
       "      <td>1</td>\n",
       "      <td>0</td>\n",
       "      <td>...</td>\n",
       "      <td>0</td>\n",
       "      <td>False</td>\n",
       "      <td>True</td>\n",
       "      <td>0</td>\n",
       "      <td>1</td>\n",
       "      <td>['US']</td>\n",
       "      <td>Action</td>\n",
       "      <td>Adventure</td>\n",
       "      <td>Animation</td>\n",
       "      <td>520.00</td>\n",
       "    </tr>\n",
       "    <tr>\n",
       "      <th>1</th>\n",
       "      <td>Looping</td>\n",
       "      <td>5.5</td>\n",
       "      <td>1982</td>\n",
       "      <td>None</td>\n",
       "      <td>None</td>\n",
       "      <td>0.0</td>\n",
       "      <td>1</td>\n",
       "      <td>10</td>\n",
       "      <td>1</td>\n",
       "      <td>0</td>\n",
       "      <td>...</td>\n",
       "      <td>0</td>\n",
       "      <td>False</td>\n",
       "      <td>True</td>\n",
       "      <td>0</td>\n",
       "      <td>1</td>\n",
       "      <td>['XWG']</td>\n",
       "      <td>Action</td>\n",
       "      <td>None</td>\n",
       "      <td>None</td>\n",
       "      <td>7.33</td>\n",
       "    </tr>\n",
       "    <tr>\n",
       "      <th>2</th>\n",
       "      <td>Idealnaya para</td>\n",
       "      <td>5.5</td>\n",
       "      <td>1992</td>\n",
       "      <td>None</td>\n",
       "      <td>None</td>\n",
       "      <td>0.0</td>\n",
       "      <td>1</td>\n",
       "      <td>10</td>\n",
       "      <td>1</td>\n",
       "      <td>0</td>\n",
       "      <td>...</td>\n",
       "      <td>0</td>\n",
       "      <td>False</td>\n",
       "      <td>True</td>\n",
       "      <td>0</td>\n",
       "      <td>1</td>\n",
       "      <td>['RU']</td>\n",
       "      <td>Comedy</td>\n",
       "      <td>None</td>\n",
       "      <td>None</td>\n",
       "      <td>25.67</td>\n",
       "    </tr>\n",
       "    <tr>\n",
       "      <th>3</th>\n",
       "      <td>MasterChef Celebrity México</td>\n",
       "      <td>5.5</td>\n",
       "      <td>2021</td>\n",
       "      <td>None</td>\n",
       "      <td>None</td>\n",
       "      <td>0.0</td>\n",
       "      <td>1</td>\n",
       "      <td>10</td>\n",
       "      <td>22</td>\n",
       "      <td>0</td>\n",
       "      <td>...</td>\n",
       "      <td>0</td>\n",
       "      <td>True</td>\n",
       "      <td>True</td>\n",
       "      <td>0</td>\n",
       "      <td>1</td>\n",
       "      <td>['MX']</td>\n",
       "      <td>Reality-TV</td>\n",
       "      <td>None</td>\n",
       "      <td>None</td>\n",
       "      <td>10.00</td>\n",
       "    </tr>\n",
       "    <tr>\n",
       "      <th>4</th>\n",
       "      <td>Seutateueob</td>\n",
       "      <td>7.5</td>\n",
       "      <td>2020</td>\n",
       "      <td>2020</td>\n",
       "      <td>80</td>\n",
       "      <td>1.0</td>\n",
       "      <td>1</td>\n",
       "      <td>10</td>\n",
       "      <td>347</td>\n",
       "      <td>2</td>\n",
       "      <td>...</td>\n",
       "      <td>1</td>\n",
       "      <td>True</td>\n",
       "      <td>True</td>\n",
       "      <td>0</td>\n",
       "      <td>32</td>\n",
       "      <td>['KR']</td>\n",
       "      <td>Comedy</td>\n",
       "      <td>Drama</td>\n",
       "      <td>Romance</td>\n",
       "      <td>10638.67</td>\n",
       "    </tr>\n",
       "    <tr>\n",
       "      <th>...</th>\n",
       "      <td>...</td>\n",
       "      <td>...</td>\n",
       "      <td>...</td>\n",
       "      <td>...</td>\n",
       "      <td>...</td>\n",
       "      <td>...</td>\n",
       "      <td>...</td>\n",
       "      <td>...</td>\n",
       "      <td>...</td>\n",
       "      <td>...</td>\n",
       "      <td>...</td>\n",
       "      <td>...</td>\n",
       "      <td>...</td>\n",
       "      <td>...</td>\n",
       "      <td>...</td>\n",
       "      <td>...</td>\n",
       "      <td>...</td>\n",
       "      <td>...</td>\n",
       "      <td>...</td>\n",
       "      <td>...</td>\n",
       "      <td>...</td>\n",
       "    </tr>\n",
       "    <tr>\n",
       "      <th>16426</th>\n",
       "      <td>Caprices</td>\n",
       "      <td>5.5</td>\n",
       "      <td>1942</td>\n",
       "      <td>None</td>\n",
       "      <td>None</td>\n",
       "      <td>0.0</td>\n",
       "      <td>1</td>\n",
       "      <td>10</td>\n",
       "      <td>4</td>\n",
       "      <td>0</td>\n",
       "      <td>...</td>\n",
       "      <td>0</td>\n",
       "      <td>False</td>\n",
       "      <td>True</td>\n",
       "      <td>0</td>\n",
       "      <td>14</td>\n",
       "      <td>['FR']</td>\n",
       "      <td>Comedy</td>\n",
       "      <td>None</td>\n",
       "      <td>None</td>\n",
       "      <td>50.00</td>\n",
       "    </tr>\n",
       "    <tr>\n",
       "      <th>16427</th>\n",
       "      <td>Haar Jeet</td>\n",
       "      <td>4.5</td>\n",
       "      <td>1990</td>\n",
       "      <td>None</td>\n",
       "      <td>None</td>\n",
       "      <td>0.0</td>\n",
       "      <td>1</td>\n",
       "      <td>10</td>\n",
       "      <td>2</td>\n",
       "      <td>0</td>\n",
       "      <td>...</td>\n",
       "      <td>0</td>\n",
       "      <td>False</td>\n",
       "      <td>True</td>\n",
       "      <td>0</td>\n",
       "      <td>1</td>\n",
       "      <td>['IN']</td>\n",
       "      <td>Action</td>\n",
       "      <td>Drama</td>\n",
       "      <td>Thriller</td>\n",
       "      <td>10.33</td>\n",
       "    </tr>\n",
       "    <tr>\n",
       "      <th>16428</th>\n",
       "      <td>Kotigobba 3</td>\n",
       "      <td>5.5</td>\n",
       "      <td>2021</td>\n",
       "      <td>None</td>\n",
       "      <td>140</td>\n",
       "      <td>0.0</td>\n",
       "      <td>1</td>\n",
       "      <td>10</td>\n",
       "      <td>39</td>\n",
       "      <td>3</td>\n",
       "      <td>...</td>\n",
       "      <td>5</td>\n",
       "      <td>False</td>\n",
       "      <td>True</td>\n",
       "      <td>0</td>\n",
       "      <td>5</td>\n",
       "      <td>['IN']</td>\n",
       "      <td>Action</td>\n",
       "      <td>Drama</td>\n",
       "      <td>Romance</td>\n",
       "      <td>1723.00</td>\n",
       "    </tr>\n",
       "    <tr>\n",
       "      <th>16429</th>\n",
       "      <td>Ator l'invincibile</td>\n",
       "      <td>3.5</td>\n",
       "      <td>1982</td>\n",
       "      <td>None</td>\n",
       "      <td>None</td>\n",
       "      <td>0.0</td>\n",
       "      <td>1</td>\n",
       "      <td>10</td>\n",
       "      <td>52</td>\n",
       "      <td>1</td>\n",
       "      <td>...</td>\n",
       "      <td>0</td>\n",
       "      <td>False</td>\n",
       "      <td>True</td>\n",
       "      <td>0</td>\n",
       "      <td>26</td>\n",
       "      <td>['IT']</td>\n",
       "      <td>Action</td>\n",
       "      <td>Adventure</td>\n",
       "      <td>Fantasy</td>\n",
       "      <td>2027.00</td>\n",
       "    </tr>\n",
       "    <tr>\n",
       "      <th>16430</th>\n",
       "      <td>Anniversary Night</td>\n",
       "      <td>9.5</td>\n",
       "      <td>2022</td>\n",
       "      <td>None</td>\n",
       "      <td>None</td>\n",
       "      <td>0.0</td>\n",
       "      <td>1</td>\n",
       "      <td>10</td>\n",
       "      <td>7</td>\n",
       "      <td>0</td>\n",
       "      <td>...</td>\n",
       "      <td>0</td>\n",
       "      <td>False</td>\n",
       "      <td>True</td>\n",
       "      <td>0</td>\n",
       "      <td>1</td>\n",
       "      <td>['IN']</td>\n",
       "      <td>Drama</td>\n",
       "      <td>Short</td>\n",
       "      <td>None</td>\n",
       "      <td>6.00</td>\n",
       "    </tr>\n",
       "  </tbody>\n",
       "</table>\n",
       "<p>16431 rows × 23 columns</p>\n",
       "</div>"
      ],
      "text/plain": [
       "                                 originalTitle  rating  startYear endYear  \\\n",
       "0      Neogenic Nightmare Chapter 3: Hydro-Man     7.5       1995    None   \n",
       "1                                      Looping     5.5       1982    None   \n",
       "2                               Idealnaya para     5.5       1992    None   \n",
       "3                  MasterChef Celebrity México     5.5       2021    None   \n",
       "4                                  Seutateueob     7.5       2020    2020   \n",
       "...                                        ...     ...        ...     ...   \n",
       "16426                                 Caprices     5.5       1942    None   \n",
       "16427                                Haar Jeet     4.5       1990    None   \n",
       "16428                              Kotigobba 3     5.5       2021    None   \n",
       "16429                       Ator l'invincibile     3.5       1982    None   \n",
       "16430                        Anniversary Night     9.5       2022    None   \n",
       "\n",
       "      runtimeMinutes  awardWins  worstRating  bestRating  totalImages  \\\n",
       "0               None        0.0            1          10            1   \n",
       "1               None        0.0            1          10            1   \n",
       "2               None        0.0            1          10            1   \n",
       "3               None        0.0            1          10           22   \n",
       "4                 80        1.0            1          10          347   \n",
       "...              ...        ...          ...         ...          ...   \n",
       "16426           None        0.0            1          10            4   \n",
       "16427           None        0.0            1          10            2   \n",
       "16428            140        0.0            1          10           39   \n",
       "16429           None        0.0            1          10           52   \n",
       "16430           None        0.0            1          10            7   \n",
       "\n",
       "       totalVideos  ...  awardNominationsExcludeWins  canHaveEpisodes  \\\n",
       "0                0  ...                            0            False   \n",
       "1                0  ...                            0            False   \n",
       "2                0  ...                            0            False   \n",
       "3                0  ...                            0             True   \n",
       "4                2  ...                            1             True   \n",
       "...            ...  ...                          ...              ...   \n",
       "16426            0  ...                            0            False   \n",
       "16427            0  ...                            0            False   \n",
       "16428            3  ...                            5            False   \n",
       "16429            1  ...                            0            False   \n",
       "16430            0  ...                            0            False   \n",
       "\n",
       "      isRatable  isAdult  numRegions  countryOfOrigin    genere_1   genere_2  \\\n",
       "0          True        0           1           ['US']      Action  Adventure   \n",
       "1          True        0           1          ['XWG']      Action       None   \n",
       "2          True        0           1           ['RU']      Comedy       None   \n",
       "3          True        0           1           ['MX']  Reality-TV       None   \n",
       "4          True        0          32           ['KR']      Comedy      Drama   \n",
       "...         ...      ...         ...              ...         ...        ...   \n",
       "16426      True        0          14           ['FR']      Comedy       None   \n",
       "16427      True        0           1           ['IN']      Action      Drama   \n",
       "16428      True        0           5           ['IN']      Action      Drama   \n",
       "16429      True        0          26           ['IT']      Action  Adventure   \n",
       "16430      True        0           1           ['IN']       Drama      Short   \n",
       "\n",
       "        genere_3 num_ratings  \n",
       "0      Animation      520.00  \n",
       "1           None        7.33  \n",
       "2           None       25.67  \n",
       "3           None       10.00  \n",
       "4        Romance    10638.67  \n",
       "...          ...         ...  \n",
       "16426       None       50.00  \n",
       "16427   Thriller       10.33  \n",
       "16428    Romance     1723.00  \n",
       "16429    Fantasy     2027.00  \n",
       "16430       None        6.00  \n",
       "\n",
       "[16431 rows x 23 columns]"
      ]
     },
     "execution_count": 30,
     "metadata": {},
     "output_type": "execute_result"
    }
   ],
   "source": [
    "# Removing redundant features creating a single column for the # of ratings\n",
    "df['num_ratings'] = round((df[['numVotes', 'userReviewsTotal', 'ratingCount']].mean(axis = 1)), 2) \n",
    "\n",
    "df = df.drop(columns = ['numVotes', 'userReviewsTotal', 'ratingCount'], axis=1)\n",
    "df"
   ]
  },
  {
   "cell_type": "code",
   "execution_count": 31,
   "metadata": {},
   "outputs": [
    {
     "name": "stdout",
     "output_type": "stream",
     "text": [
      "15617\n"
     ]
    }
   ],
   "source": [
    "# Dealing with the endYear column\n",
    "print(df['endYear'].isna().sum())"
   ]
  },
  {
   "cell_type": "code",
   "execution_count": 32,
   "metadata": {},
   "outputs": [
    {
     "name": "stdout",
     "output_type": "stream",
     "text": [
      "Percentage of None values in endYear column: 95.04594972917047\n"
     ]
    },
    {
     "data": {
      "text/html": [
       "<div>\n",
       "<style scoped>\n",
       "    .dataframe tbody tr th:only-of-type {\n",
       "        vertical-align: middle;\n",
       "    }\n",
       "\n",
       "    .dataframe tbody tr th {\n",
       "        vertical-align: top;\n",
       "    }\n",
       "\n",
       "    .dataframe thead th {\n",
       "        text-align: right;\n",
       "    }\n",
       "</style>\n",
       "<table border=\"1\" class=\"dataframe\">\n",
       "  <thead>\n",
       "    <tr style=\"text-align: right;\">\n",
       "      <th></th>\n",
       "      <th>originalTitle</th>\n",
       "      <th>rating</th>\n",
       "      <th>startYear</th>\n",
       "      <th>runtimeMinutes</th>\n",
       "      <th>awardWins</th>\n",
       "      <th>worstRating</th>\n",
       "      <th>bestRating</th>\n",
       "      <th>totalImages</th>\n",
       "      <th>totalVideos</th>\n",
       "      <th>totalCredits</th>\n",
       "      <th>...</th>\n",
       "      <th>awardNominationsExcludeWins</th>\n",
       "      <th>canHaveEpisodes</th>\n",
       "      <th>isRatable</th>\n",
       "      <th>isAdult</th>\n",
       "      <th>numRegions</th>\n",
       "      <th>countryOfOrigin</th>\n",
       "      <th>genere_1</th>\n",
       "      <th>genere_2</th>\n",
       "      <th>genere_3</th>\n",
       "      <th>num_ratings</th>\n",
       "    </tr>\n",
       "  </thead>\n",
       "  <tbody>\n",
       "    <tr>\n",
       "      <th>0</th>\n",
       "      <td>Neogenic Nightmare Chapter 3: Hydro-Man</td>\n",
       "      <td>7.5</td>\n",
       "      <td>1995</td>\n",
       "      <td>None</td>\n",
       "      <td>0.0</td>\n",
       "      <td>1</td>\n",
       "      <td>10</td>\n",
       "      <td>1</td>\n",
       "      <td>0</td>\n",
       "      <td>21</td>\n",
       "      <td>...</td>\n",
       "      <td>0</td>\n",
       "      <td>False</td>\n",
       "      <td>True</td>\n",
       "      <td>0</td>\n",
       "      <td>1</td>\n",
       "      <td>['US']</td>\n",
       "      <td>Action</td>\n",
       "      <td>Adventure</td>\n",
       "      <td>Animation</td>\n",
       "      <td>520.00</td>\n",
       "    </tr>\n",
       "    <tr>\n",
       "      <th>1</th>\n",
       "      <td>Looping</td>\n",
       "      <td>5.5</td>\n",
       "      <td>1982</td>\n",
       "      <td>None</td>\n",
       "      <td>0.0</td>\n",
       "      <td>1</td>\n",
       "      <td>10</td>\n",
       "      <td>1</td>\n",
       "      <td>0</td>\n",
       "      <td>1</td>\n",
       "      <td>...</td>\n",
       "      <td>0</td>\n",
       "      <td>False</td>\n",
       "      <td>True</td>\n",
       "      <td>0</td>\n",
       "      <td>1</td>\n",
       "      <td>['XWG']</td>\n",
       "      <td>Action</td>\n",
       "      <td>None</td>\n",
       "      <td>None</td>\n",
       "      <td>7.33</td>\n",
       "    </tr>\n",
       "    <tr>\n",
       "      <th>2</th>\n",
       "      <td>Idealnaya para</td>\n",
       "      <td>5.5</td>\n",
       "      <td>1992</td>\n",
       "      <td>None</td>\n",
       "      <td>0.0</td>\n",
       "      <td>1</td>\n",
       "      <td>10</td>\n",
       "      <td>1</td>\n",
       "      <td>0</td>\n",
       "      <td>24</td>\n",
       "      <td>...</td>\n",
       "      <td>0</td>\n",
       "      <td>False</td>\n",
       "      <td>True</td>\n",
       "      <td>0</td>\n",
       "      <td>1</td>\n",
       "      <td>['RU']</td>\n",
       "      <td>Comedy</td>\n",
       "      <td>None</td>\n",
       "      <td>None</td>\n",
       "      <td>25.67</td>\n",
       "    </tr>\n",
       "    <tr>\n",
       "      <th>3</th>\n",
       "      <td>MasterChef Celebrity México</td>\n",
       "      <td>5.5</td>\n",
       "      <td>2021</td>\n",
       "      <td>None</td>\n",
       "      <td>0.0</td>\n",
       "      <td>1</td>\n",
       "      <td>10</td>\n",
       "      <td>22</td>\n",
       "      <td>0</td>\n",
       "      <td>56</td>\n",
       "      <td>...</td>\n",
       "      <td>0</td>\n",
       "      <td>True</td>\n",
       "      <td>True</td>\n",
       "      <td>0</td>\n",
       "      <td>1</td>\n",
       "      <td>['MX']</td>\n",
       "      <td>Reality-TV</td>\n",
       "      <td>None</td>\n",
       "      <td>None</td>\n",
       "      <td>10.00</td>\n",
       "    </tr>\n",
       "    <tr>\n",
       "      <th>4</th>\n",
       "      <td>Seutateueob</td>\n",
       "      <td>7.5</td>\n",
       "      <td>2020</td>\n",
       "      <td>80</td>\n",
       "      <td>1.0</td>\n",
       "      <td>1</td>\n",
       "      <td>10</td>\n",
       "      <td>347</td>\n",
       "      <td>2</td>\n",
       "      <td>47</td>\n",
       "      <td>...</td>\n",
       "      <td>1</td>\n",
       "      <td>True</td>\n",
       "      <td>True</td>\n",
       "      <td>0</td>\n",
       "      <td>32</td>\n",
       "      <td>['KR']</td>\n",
       "      <td>Comedy</td>\n",
       "      <td>Drama</td>\n",
       "      <td>Romance</td>\n",
       "      <td>10638.67</td>\n",
       "    </tr>\n",
       "    <tr>\n",
       "      <th>...</th>\n",
       "      <td>...</td>\n",
       "      <td>...</td>\n",
       "      <td>...</td>\n",
       "      <td>...</td>\n",
       "      <td>...</td>\n",
       "      <td>...</td>\n",
       "      <td>...</td>\n",
       "      <td>...</td>\n",
       "      <td>...</td>\n",
       "      <td>...</td>\n",
       "      <td>...</td>\n",
       "      <td>...</td>\n",
       "      <td>...</td>\n",
       "      <td>...</td>\n",
       "      <td>...</td>\n",
       "      <td>...</td>\n",
       "      <td>...</td>\n",
       "      <td>...</td>\n",
       "      <td>...</td>\n",
       "      <td>...</td>\n",
       "      <td>...</td>\n",
       "    </tr>\n",
       "    <tr>\n",
       "      <th>16426</th>\n",
       "      <td>Caprices</td>\n",
       "      <td>5.5</td>\n",
       "      <td>1942</td>\n",
       "      <td>None</td>\n",
       "      <td>0.0</td>\n",
       "      <td>1</td>\n",
       "      <td>10</td>\n",
       "      <td>4</td>\n",
       "      <td>0</td>\n",
       "      <td>45</td>\n",
       "      <td>...</td>\n",
       "      <td>0</td>\n",
       "      <td>False</td>\n",
       "      <td>True</td>\n",
       "      <td>0</td>\n",
       "      <td>14</td>\n",
       "      <td>['FR']</td>\n",
       "      <td>Comedy</td>\n",
       "      <td>None</td>\n",
       "      <td>None</td>\n",
       "      <td>50.00</td>\n",
       "    </tr>\n",
       "    <tr>\n",
       "      <th>16427</th>\n",
       "      <td>Haar Jeet</td>\n",
       "      <td>4.5</td>\n",
       "      <td>1990</td>\n",
       "      <td>None</td>\n",
       "      <td>0.0</td>\n",
       "      <td>1</td>\n",
       "      <td>10</td>\n",
       "      <td>2</td>\n",
       "      <td>0</td>\n",
       "      <td>22</td>\n",
       "      <td>...</td>\n",
       "      <td>0</td>\n",
       "      <td>False</td>\n",
       "      <td>True</td>\n",
       "      <td>0</td>\n",
       "      <td>1</td>\n",
       "      <td>['IN']</td>\n",
       "      <td>Action</td>\n",
       "      <td>Drama</td>\n",
       "      <td>Thriller</td>\n",
       "      <td>10.33</td>\n",
       "    </tr>\n",
       "    <tr>\n",
       "      <th>16428</th>\n",
       "      <td>Kotigobba 3</td>\n",
       "      <td>5.5</td>\n",
       "      <td>2021</td>\n",
       "      <td>140</td>\n",
       "      <td>0.0</td>\n",
       "      <td>1</td>\n",
       "      <td>10</td>\n",
       "      <td>39</td>\n",
       "      <td>3</td>\n",
       "      <td>129</td>\n",
       "      <td>...</td>\n",
       "      <td>5</td>\n",
       "      <td>False</td>\n",
       "      <td>True</td>\n",
       "      <td>0</td>\n",
       "      <td>5</td>\n",
       "      <td>['IN']</td>\n",
       "      <td>Action</td>\n",
       "      <td>Drama</td>\n",
       "      <td>Romance</td>\n",
       "      <td>1723.00</td>\n",
       "    </tr>\n",
       "    <tr>\n",
       "      <th>16429</th>\n",
       "      <td>Ator l'invincibile</td>\n",
       "      <td>3.5</td>\n",
       "      <td>1982</td>\n",
       "      <td>None</td>\n",
       "      <td>0.0</td>\n",
       "      <td>1</td>\n",
       "      <td>10</td>\n",
       "      <td>52</td>\n",
       "      <td>1</td>\n",
       "      <td>53</td>\n",
       "      <td>...</td>\n",
       "      <td>0</td>\n",
       "      <td>False</td>\n",
       "      <td>True</td>\n",
       "      <td>0</td>\n",
       "      <td>26</td>\n",
       "      <td>['IT']</td>\n",
       "      <td>Action</td>\n",
       "      <td>Adventure</td>\n",
       "      <td>Fantasy</td>\n",
       "      <td>2027.00</td>\n",
       "    </tr>\n",
       "    <tr>\n",
       "      <th>16430</th>\n",
       "      <td>Anniversary Night</td>\n",
       "      <td>9.5</td>\n",
       "      <td>2022</td>\n",
       "      <td>None</td>\n",
       "      <td>0.0</td>\n",
       "      <td>1</td>\n",
       "      <td>10</td>\n",
       "      <td>7</td>\n",
       "      <td>0</td>\n",
       "      <td>19</td>\n",
       "      <td>...</td>\n",
       "      <td>0</td>\n",
       "      <td>False</td>\n",
       "      <td>True</td>\n",
       "      <td>0</td>\n",
       "      <td>1</td>\n",
       "      <td>['IN']</td>\n",
       "      <td>Drama</td>\n",
       "      <td>Short</td>\n",
       "      <td>None</td>\n",
       "      <td>6.00</td>\n",
       "    </tr>\n",
       "  </tbody>\n",
       "</table>\n",
       "<p>16431 rows × 22 columns</p>\n",
       "</div>"
      ],
      "text/plain": [
       "                                 originalTitle  rating  startYear  \\\n",
       "0      Neogenic Nightmare Chapter 3: Hydro-Man     7.5       1995   \n",
       "1                                      Looping     5.5       1982   \n",
       "2                               Idealnaya para     5.5       1992   \n",
       "3                  MasterChef Celebrity México     5.5       2021   \n",
       "4                                  Seutateueob     7.5       2020   \n",
       "...                                        ...     ...        ...   \n",
       "16426                                 Caprices     5.5       1942   \n",
       "16427                                Haar Jeet     4.5       1990   \n",
       "16428                              Kotigobba 3     5.5       2021   \n",
       "16429                       Ator l'invincibile     3.5       1982   \n",
       "16430                        Anniversary Night     9.5       2022   \n",
       "\n",
       "      runtimeMinutes  awardWins  worstRating  bestRating  totalImages  \\\n",
       "0               None        0.0            1          10            1   \n",
       "1               None        0.0            1          10            1   \n",
       "2               None        0.0            1          10            1   \n",
       "3               None        0.0            1          10           22   \n",
       "4                 80        1.0            1          10          347   \n",
       "...              ...        ...          ...         ...          ...   \n",
       "16426           None        0.0            1          10            4   \n",
       "16427           None        0.0            1          10            2   \n",
       "16428            140        0.0            1          10           39   \n",
       "16429           None        0.0            1          10           52   \n",
       "16430           None        0.0            1          10            7   \n",
       "\n",
       "       totalVideos  totalCredits  ...  awardNominationsExcludeWins  \\\n",
       "0                0            21  ...                            0   \n",
       "1                0             1  ...                            0   \n",
       "2                0            24  ...                            0   \n",
       "3                0            56  ...                            0   \n",
       "4                2            47  ...                            1   \n",
       "...            ...           ...  ...                          ...   \n",
       "16426            0            45  ...                            0   \n",
       "16427            0            22  ...                            0   \n",
       "16428            3           129  ...                            5   \n",
       "16429            1            53  ...                            0   \n",
       "16430            0            19  ...                            0   \n",
       "\n",
       "      canHaveEpisodes  isRatable  isAdult  numRegions  countryOfOrigin  \\\n",
       "0               False       True        0           1           ['US']   \n",
       "1               False       True        0           1          ['XWG']   \n",
       "2               False       True        0           1           ['RU']   \n",
       "3                True       True        0           1           ['MX']   \n",
       "4                True       True        0          32           ['KR']   \n",
       "...               ...        ...      ...         ...              ...   \n",
       "16426           False       True        0          14           ['FR']   \n",
       "16427           False       True        0           1           ['IN']   \n",
       "16428           False       True        0           5           ['IN']   \n",
       "16429           False       True        0          26           ['IT']   \n",
       "16430           False       True        0           1           ['IN']   \n",
       "\n",
       "         genere_1   genere_2   genere_3 num_ratings  \n",
       "0          Action  Adventure  Animation      520.00  \n",
       "1          Action       None       None        7.33  \n",
       "2          Comedy       None       None       25.67  \n",
       "3      Reality-TV       None       None       10.00  \n",
       "4          Comedy      Drama    Romance    10638.67  \n",
       "...           ...        ...        ...         ...  \n",
       "16426      Comedy       None       None       50.00  \n",
       "16427      Action      Drama   Thriller       10.33  \n",
       "16428      Action      Drama    Romance     1723.00  \n",
       "16429      Action  Adventure    Fantasy     2027.00  \n",
       "16430       Drama      Short       None        6.00  \n",
       "\n",
       "[16431 rows x 22 columns]"
      ]
     },
     "execution_count": 32,
     "metadata": {},
     "output_type": "execute_result"
    }
   ],
   "source": [
    "# We can drop the column considering the percentage of missing values\n",
    "print('Percentage of None values in endYear column:', (15617*100)/16431)\n",
    "df = df.drop('endYear', axis = 1)\n",
    "df"
   ]
  },
  {
   "cell_type": "code",
   "execution_count": 33,
   "metadata": {},
   "outputs": [
    {
     "name": "stdout",
     "output_type": "stream",
     "text": [
      "4852\n",
      "Percentage of None values in runtimeMinutes column: 29.52954780597651\n"
     ]
    }
   ],
   "source": [
    "print(df['runtimeMinutes'].isna().sum())\n",
    "print('Percentage of None values in runtimeMinutes column:', (4852*100)/16431)"
   ]
  },
  {
   "cell_type": "code",
   "execution_count": 34,
   "metadata": {},
   "outputs": [
    {
     "name": "stdout",
     "output_type": "stream",
     "text": [
      "The worst ratings assigned are:  worstRating\n",
      "1    16431\n",
      "Name: count, dtype: int64\n",
      "The best rating assigned are:  bestRating\n",
      "10    16431\n",
      "Name: count, dtype: int64\n"
     ]
    }
   ],
   "source": [
    "# Worst rating e best rating: if they are all the same it's useless information\n",
    "print('The worst ratings assigned are: ', df['worstRating'].value_counts())\n",
    "print('The best rating assigned are: ', df['bestRating'].value_counts())\n",
    "\n",
    "#It is a uniform column: does not give any specific information about the different instances, we can drop it\n",
    "df = df.drop(columns = ['worstRating', 'bestRating'], axis = 1)"
   ]
  },
  {
   "cell_type": "code",
   "execution_count": 35,
   "metadata": {},
   "outputs": [
    {
     "name": "stdout",
     "output_type": "stream",
     "text": [
      "The values present in the isRatable column are:  isRatable\n",
      "True    16431\n",
      "Name: count, dtype: int64\n"
     ]
    }
   ],
   "source": [
    "# Checking the isRatable column: if it has just True it is not informative\n",
    "print(\"The values present in the isRatable column are: \", df['isRatable'].value_counts())\n",
    "\n",
    "# All the same: therefore we can delete it\n",
    "df = df.drop(['isRatable'], axis = 1)"
   ]
  },
  {
   "cell_type": "code",
   "execution_count": 36,
   "metadata": {},
   "outputs": [
    {
     "data": {
      "text/plain": [
       "isAdult\n",
       "0    16005\n",
       "1      426\n",
       "Name: count, dtype: int64"
      ]
     },
     "execution_count": 36,
     "metadata": {},
     "output_type": "execute_result"
    }
   ],
   "source": [
    "# Checking the isAdult column\n",
    "df['isAdult'].value_counts()\n",
    "\n",
    "# Qui potremmo decidere di eliminarla dato che appare nella colonna dei generi, ma forse è comodo averlo in binario"
   ]
  },
  {
   "cell_type": "code",
   "execution_count": 37,
   "metadata": {},
   "outputs": [],
   "source": [
    "df.to_csv('data/train_processed.csv', index=False)"
   ]
  }
 ],
 "metadata": {
  "kernelspec": {
   "display_name": "Python 3",
   "language": "python",
   "name": "python3"
  },
  "language_info": {
   "codemirror_mode": {
    "name": "ipython",
    "version": 3
   },
   "file_extension": ".py",
   "mimetype": "text/x-python",
   "name": "python",
   "nbconvert_exporter": "python",
   "pygments_lexer": "ipython3",
   "version": "3.11.9"
  },
  "orig_nbformat": 4
 },
 "nbformat": 4,
 "nbformat_minor": 2
}

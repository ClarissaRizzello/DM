{
 "cells": [
  {
   "cell_type": "code",
   "execution_count": null,
   "id": "87b8ef13",
   "metadata": {},
   "outputs": [],
   "source": [
    "import numpy as np\n",
    "import matplotlib.pyplot as plt\n",
    "import seaborn as sns\n",
    "import pandas as pd"
   ]
  },
  {
   "cell_type": "code",
   "execution_count": null,
   "id": "dabe22ff",
   "metadata": {},
   "outputs": [],
   "source": [
    "df = pd.read_csv('df_cleaned.csv', skipinitialspace=True, header=0)\n",
    "X = df.drop(columns=['rating_category',\"originalTitle\",\"totalImages\", \"totalVideos\", \"countryOfOrigin\", \"canHaveEpisodes\", \"runtimeMinutes\", \"rating\"])\n",
    "y = df['rating_category']"
   ]
  },
  {
   "cell_type": "code",
   "execution_count": null,
   "id": "b26a82fa",
   "metadata": {},
   "outputs": [],
   "source": [
    "from sklearn.model_selection import train_test_split, StratifiedKFold\n",
    "from sklearn.preprocessing import LabelEncoder, OneHotEncoder, MultiLabelBinarizer"
   ]
  },
  {
   "cell_type": "code",
   "execution_count": null,
   "id": "63f744e7",
   "metadata": {},
   "outputs": [],
   "source": [
    "# dataset division with stratify\n",
    "\n",
    "RANDOM_STATE = 0\n",
    "X_train, X_test, y_train, y_test = train_test_split(\n",
    "    X, y, test_size=0.2, stratify=y, random_state=RANDOM_STATE\n",
    ")\n",
    "\n",
    "K_FOLD = StratifiedKFold(n_splits = 5, shuffle = True, random_state = RANDOM_STATE)"
   ]
  },
  {
   "cell_type": "code",
   "execution_count": null,
   "id": "6c0db981",
   "metadata": {},
   "outputs": [],
   "source": [
    "le = LabelEncoder()\n",
    "y_train_enc = le.fit_transform(y_train)\n",
    "y_test_enc = le.transform(y_test)\n",
    "\n",
    "# genres: MultiLabelBinarizer\n",
    "mlb = MultiLabelBinarizer()\n",
    "genres_train = mlb.fit_transform(X_train['genres'])\n",
    "genres_test = mlb.transform(X_test['genres'])\n",
    "\n",
    "# One-hot encoding su titleType e continent\n",
    "X_cat_train = pd.get_dummies(X_train[['titleType', 'continent']], drop_first=True)\n",
    "X_cat_test = pd.get_dummies(X_test[['titleType', 'continent']], drop_first=True)\n",
    "\n",
    "# Allineamento colonne test rispetto al train\n",
    "X_cat_test = X_cat_test.reindex(columns=X_cat_train.columns, fill_value=0)\n",
    "\n",
    "# Selezione colonne numeriche\n",
    "X_num_train = X_train.select_dtypes(include=[np.number])\n",
    "X_num_test = X_test.select_dtypes(include=[np.number])\n",
    "\n",
    "# Costruzione dei dataset finali in formato DENSE\n",
    "X_train_enc = np.hstack([\n",
    "    X_num_train.values,\n",
    "    genres_train,\n",
    "    X_cat_train.values\n",
    "])\n",
    "\n",
    "X_test_enc = np.hstack([\n",
    "    X_num_test.values,\n",
    "    genres_test,\n",
    "    X_cat_test.values\n",
    "])\n",
    "\n",
    "# Verifica consistenza\n",
    "print(\"Colonne numeriche:\", X_num_train.columns.tolist())\n",
    "print(\"X_train_enc shape:\", X_train_enc.shape)\n",
    "print(\"X_test_enc shape:\", X_test_enc.shape)\n",
    "print(type(X_train_enc))\n",
    "\n",
    "assert X_train_enc.shape[1] == X_test_enc.shape[1], \"Numero di colonne tra train e test non corrisponde!\""
   ]
  },
  {
   "cell_type": "markdown",
   "id": "2016e4c8",
   "metadata": {},
   "source": [
    "#Randomizer Search"
   ]
  },
  {
   "cell_type": "code",
   "execution_count": null,
   "id": "ef72e6f8",
   "metadata": {},
   "outputs": [],
   "source": [
    "from sklearn.model_selection import RandomizedSearchCV\n",
    "from sklearn.model_selection import RepeatedStratifiedKFold"
   ]
  },
  {
   "cell_type": "code",
   "execution_count": null,
   "id": "ec3d60a2",
   "metadata": {},
   "outputs": [],
   "source": [
    "%%time\n",
    "param_list = {\n",
    "    'max_depth': [None] + list(np.arange(2, 20)),\n",
    "    'min_samples_split': [2, 5, 10, 20, 30, 50, 100],\n",
    "    'min_samples_leaf': [1, 5, 10, 20, 30, 50, 100],\n",
    "    'criterion': ['gini', 'entropy']\n",
    "}\n",
    "\n",
    "clf = DecisionTreeClassifier(criterion='gini', max_depth=None, min_samples_split=2, min_samples_leaf=1)\n",
    "\n",
    "random_search = RandomizedSearchCV(\n",
    "    DecisionTreeClassifier(),\n",
    "    param_distributions=param_list,\n",
    "    cv=RepeatedStratifiedKFold(random_state=0),\n",
    "    n_jobs=-1,\n",
    "    refit=True,\n",
    "    n_iter=200,\n",
    "    #verbose=2\n",
    ")\n",
    "\n",
    "random_search.fit(X_train, y_train)\n",
    "clf = random_search.best_estimator_"
   ]
  },
  {
   "cell_type": "code",
   "execution_count": null,
   "metadata": {},
   "outputs": [],
   "source": []
  },
  {
   "cell_type": "markdown",
   "id": "d258ac52",
   "metadata": {},
   "source": [
    "#Decision Tree"
   ]
  },
  {
   "cell_type": "code",
   "execution_count": null,
   "id": "f6b1a1f1",
   "metadata": {},
   "outputs": [],
   "source": [
    "from sklearn.tree import DecisionTreeClassifier, plot_tree"
   ]
  },
  {
   "cell_type": "code",
   "execution_count": null,
   "id": "6ad60f95",
   "metadata": {},
   "outputs": [],
   "source": []
  },
  {
   "cell_type": "code",
   "execution_count": null,
   "id": "23f835b8",
   "metadata": {},
   "outputs": [],
   "source": []
  }
 ],
 "metadata": {
  "language_info": {
   "name": "python"
  }
 },
 "nbformat": 4,
 "nbformat_minor": 5
}
